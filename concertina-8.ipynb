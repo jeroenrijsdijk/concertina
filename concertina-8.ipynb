{
 "cells": [
  {
   "cell_type": "markdown",
   "metadata": {},
   "source": [
    "# concertina button finder"
   ]
  },
  {
   "cell_type": "markdown",
   "metadata": {},
   "source": [
    "## MUPHIN coding music - 2015, 2018\n",
    "#### find the best path for playing any tune on a concertina\n",
    "\n",
    "Well… here is a tune. Get your concertina. And play it. But how? Where? What keys? It is quite hard to start playing the concertina. Especially considering that quite a few notes are on several positions.\n",
    "\n",
    "This is a tune in abc format:\n",
    "<PRE>X: 1\n",
    "T: Mrs Saggs\n",
    "R: reel\n",
    "M: 4/4\n",
    "L: 1/8\n",
    "K: Gmaj\n",
    "| : DGA | B4 A2 GF | G6 Bd | e/2f/2gdg cgdg | g2 fe fdef |\n",
    "g2 d2 cBAG | D2 C2 B,2 D2 | ECEG BAGF | G4 z  : |\n",
    "| : GAB | c4 B2 AG | DFAd fdef | g2 d2 cBAG | B2 AG A2 AB |\n",
    "c4 B2 AG | FA df a2 gf | g2 d2 cBAG | G4 z  : |\n",
    "</PRE>\n",
    "\n",
    "\n",
    "## Links\n",
    "* Get your favorite tune in an abc file anywhere, for example from [thesession.org](https://thesession.org/)\n",
    "* What is a concertina? Try this video of [Edel Fox at youtube](https://www.youtube.com/watch?v=axi6TrtNd_4)\n",
    "\n",
    "\n",
    "\n"
   ]
  },
  {
   "cell_type": "code",
   "execution_count": 186,
   "metadata": {
    "collapsed": true
   },
   "outputs": [],
   "source": [
    "#####################\n",
    "# TODO, KNOWN BUGS  #\n",
    "#####################\n",
    "#  1 solved\n",
    "#  2 solved\n",
    "#  3 visualisation of the results   \n",
    "#  4 convert all into ios/android app\n",
    "#  5 solved\n",
    "#  6 solved\n",
    "#  7 smarter cleanup\n",
    "#  8 tree instead of array with too much data\n",
    "#  9 To sharpen a note precede it with the circumflex or caret ^ :: ^c\n",
    "# 10 To flatten a note precede it with an underscore _ :: _B\n",
    "# 11 Double sharps are shown as ^^ and double flats as __ ::\n",
    "# 12 To naturalise (?) a note precede it with an equals sign = :: =c\n",
    "# 13 insert while reading .abc something like  unicode_normalize(:nfkd).chars\n",
    "\n"
   ]
  },
  {
   "cell_type": "code",
   "execution_count": 187,
   "metadata": {
    "collapsed": false
   },
   "outputs": [
    {
     "data": {
      "text/plain": [
       "true"
      ]
     },
     "execution_count": 187,
     "metadata": {},
     "output_type": "execute_result"
    }
   ],
   "source": [
    "# Let's start with some constant values. \n",
    "# A route is a one of the many ways to play the tune.\n",
    "# $Maxroutes is the maximum number of routes this script holds in memory\n",
    "# while searching for the best route. The higher, the longer calculation time.\n",
    "# in general, there is no difference in results for lower values.\n",
    "# tested range is 1024 ~ 16384\n",
    "# Default: 4096\n",
    "$Maxroutes = 4096\n",
    "\n",
    "# true = do cleanup to the maximum defined above.\n",
    "# false = no cleanup. Thats for testing only.\n",
    "$cleanup=  true\n",
    "\n",
    "# If a tune has the same note twice like A3 G3 G3 A3\n",
    "# if true: script list A3 G3 A3, false: A3 G3 G3 A3\n",
    "# true = better performance, less memory needed\n",
    "$dupchek=  true\n"
   ]
  },
  {
   "cell_type": "markdown",
   "metadata": {},
   "source": [
    "# Reading ABC\n",
    "## Some basic Ruby code to get the ABC file into a hash.\n"
   ]
  },
  {
   "cell_type": "code",
   "execution_count": 188,
   "metadata": {
    "collapsed": false
   },
   "outputs": [
    {
     "name": "stdout",
     "output_type": "stream",
     "text": [
      "X: 1\n",
      "T: Patsy Geary's\n",
      "R: slide\n",
      "M: 12/8\n",
      "L: 1/8\n",
      "K: Dmaj\n",
      "AG|:F2 A AFA|B=cB A2 G|F2 A d2 e|~f3 fef|\n",
      "|~g3 fgf|efe d2 B|1ABA AFD|~E3 EAG:|2 ABA efe|~d3 d2 e||\n",
      "|:f2 e f2 e|f2 e fga|ABA BAF|ABA ABd|efe efe|\n",
      "|efe dfa|baf afe|1 ~d3 d2 e:|2 ~d3 d2 A|| \n"
     ]
    },
    {
     "data": {
      "text/plain": [
       "#<File:patsygearys.abc (closed)>"
      ]
     },
     "execution_count": 188,
     "metadata": {},
     "output_type": "execute_result"
    }
   ],
   "source": [
    "tune={}\n",
    "\n",
    "# READ FILE\n",
    "# File.open(\"kesh.abc\", \"rb\") do |f|\n",
    "# File.open(\"mrs-saggs.abc\", \"rb\") do |f|\n",
    " File.open(\"patsygearys.abc\", \"rb\") do |f|\n",
    "# File.open(\"joebanes-1.abc\", \"rb\") do |f|  \n",
    "# File.open(\"drowsymaggie-1.abc\", \"rb\") do |f|  \n",
    "#  File.open(\"edwardtheseventh-1.abc\", \"rb\") do |f|  \n",
    "  f.each_line do |line|\n",
    "    puts line.chomp\n",
    "    \n",
    "    line = line.chomp  # remove \\n and/or \\r\n",
    "    if line[1]==':' && line[0]!= '|'\n",
    "      line.delete!(\" \")\n",
    "      infotype=line[0]      \n",
    "      line=line[2..-1]\n",
    "      tune[:number] = line if infotype=='X'\n",
    "      tune[:title]  = line if infotype=='T'\n",
    "      tune[:rhythm] = line if infotype=='R'\n",
    "      tune[:meas]   = line if infotype=='M'\n",
    "      tune[:notelen]= line if infotype=='L'\n",
    "      tune[:key]    = line if infotype=='K'\n",
    "      \n",
    "    else \n",
    "      # this must be a line of notes  \n",
    "      if tune.include?(:line)\n",
    "        tune[:line] << line\n",
    "      else\n",
    "        tune[:line] = line\n",
    "      end\n",
    "      \n",
    "    end # if/else\n",
    "  end   # each\n",
    "end     # file\n",
    "\n",
    "\n"
   ]
  },
  {
   "cell_type": "markdown",
   "metadata": {
    "collapsed": true
   },
   "source": [
    "# Theory and Algoritm\n",
    "## Storing the Paths\n",
    "Well, I am very sure there must be smarter ways (like trees) to store the paths, but I like to work with plain arrays and hashes.\n",
    "\n",
    "Let's say we want to play A->G on the third octave,\n",
    "If the A3 (note A on third octave) is on button 1, 2 and 3,\n",
    "and G3 is on button 4 and 5:\n",
    "there are 6 possible paths to play A3->G3:\n",
    "\n",
    "<pre>[1,4] [1,5] [2,4] [2,5] [3,4] [3,5]</pre>\n",
    "\n",
    "where [1,4] is playing first button 1, second button 4. You might already notice that this will grow quickly if searching a complete tune.\n",
    "\n",
    "## Distance Matrix\n",
    "If [1,4] is an easy step, and [1,5] is not, we prefer the [1,4].  We will need kind of a score to compare both options, and therefore we calculate a so called Distance Matrix.  It describes the level of difficulty to play note on button y after note on button x.\n",
    "\n",
    "The difficulty of playing note y after note x depends on:\n",
    "\n",
    "* stay on the same side (left or right): same side is a tiny little bit easier,\n",
    "* stay on the same row: (c, g or top row): I don’t care, no score\n",
    "* samefinger, same side = hopping: severe penalty\n",
    "* prefer g and c row: g and c row preferred over top row\n",
    "* prefer finger: playing on the inside button is good. Therefore a benefit if it’s the first (or second) button on a row\n",
    "* switch from push to pull or vice versa:  a small penalty\n",
    "* same note? than play it on the same button."
   ]
  },
  {
   "cell_type": "markdown",
   "metadata": {},
   "source": [
    "# Sharps\n",
    "\n",
    "The ABC notation says F but (for example) it should be F# when playing in G Maj. This code adds the #'s. \n",
    "\n",
    "* The key of the tune is in tune[:key]\n",
    "\n",
    "* sharps['F'] has all the keys where F should be F#, so sharpes note by checking \n",
    "<pre>\n",
    "    sharps['F'].include? tune[:key]\n",
    "</pre>\n",
    "\n",
    "\n",
    "\n",
    "### Now update the tuneline with sharp-symbol# added "
   ]
  },
  {
   "cell_type": "code",
   "execution_count": 189,
   "metadata": {
    "collapsed": false
   },
   "outputs": [
    {
     "data": {
      "text/plain": [
       "{\"F\"=>[\"G\", \"GMaj\", \"Gmaj\", \"GM\", \"D\", \"DMaj\", \"Dmaj\", \"DM\", \"A\", \"AMaj\", \"Amaj\", \"AM\", \"Em\", \"Emin\", \"Bm\", \"Bmin\", \"Cm\", \"Cmin\"], \"C\"=>[\"D\", \"DMaj\", \"Dmaj\", \"DM\", \"A\", \"AMaj\", \"Amaj\", \"AM\", \"E\", \"EMaj\", \"Emaj\", \"EM\", \"Bm\", \"Bmin\"], \"G\"=>[\"E\", \"EMaj\", \"Emaj\", \"EM\", \"A\", \"AMaj\", \"Amaj\", \"AM\"]}"
      ]
     },
     "execution_count": 189,
     "metadata": {},
     "output_type": "execute_result"
    }
   ],
   "source": [
    "sharps = {\n",
    "  'F' => [   #~   F will be F# by default WHEN PLAYING IN...: \n",
    "    \"G\", \"GMaj\", \"Gmaj\", \"GM\",\n",
    "    \"D\", \"DMaj\", \"Dmaj\", \"DM\",\n",
    "    \"A\", \"AMaj\", \"Amaj\", \"AM\",\n",
    "    \"Em\",\"Emin\",\n",
    "    \"Bm\",\"Bmin\",\n",
    "    \"Cm\",\"Cmin\"\n",
    "    ],\n",
    "  'C' => [  #~   C will be C# by default WHEN PLAYING IN...:\n",
    "    \"D\", \"DMaj\", \"Dmaj\", \"DM\",\n",
    "    \"A\", \"AMaj\", \"Amaj\", \"AM\",\n",
    "    \"E\", \"EMaj\", \"Emaj\", \"EM\",\n",
    "    \"Bm\",\"Bmin\"\n",
    "    ],\n",
    "  'G' => [  #~   G will be G# by default WHEN PLAYING IN...:\n",
    "    \"E\", \"EMaj\", \"Emaj\", \"EM\",\n",
    "    \"A\", \"AMaj\", \"Amaj\", \"AM\",\n",
    "    ],\n",
    "   }"
   ]
  },
  {
   "cell_type": "markdown",
   "metadata": {
    "collapsed": true
   },
   "source": [
    "# Parsing the Note-line into notes\n",
    "\n",
    "In tune[:line] are the notes of the tune.  \n",
    "\n",
    "Now delete all characters that are not notes:\n",
    "* no numbers \n",
    "* no |:  :| \n",
    "* no | \n",
    "* no ^ -> make sharp\n",
    "* no _ -> make flat\n",
    "* other chars like / of ["
   ]
  },
  {
   "cell_type": "code",
   "execution_count": 190,
   "metadata": {
    "collapsed": false
   },
   "outputs": [
    {
     "name": "stdout",
     "output_type": "stream",
     "text": [
      "AGFAAFABcBAGFAdeffefgfgfefedBABAAFDEEAGABAefeddefefefefgaABABAFABAABdefeefeefedfabafafeddeddA\n"
     ]
    },
    {
     "data": {
      "text/plain": [
       "\"AGFAAFABcBAGFAdeffefgfgfefedBABAAFDEEAGABAefeddefefefefgaABABAFABAABdefeefeefedfabafafeddeddA\""
      ]
     },
     "execution_count": 190,
     "metadata": {},
     "output_type": "execute_result"
    }
   ],
   "source": [
    "# these strings/chars will be deleted without further notice:\n",
    "deleteme = [\"|:\",\":|\",\":\",\"|]\",\"[|\", \"0\",\"1\",\"2\",\"3\",\"4\",\"6\",\"8\", \"::\", \"|\", \"/\", \"~\" , \"=\" ]\n",
    "\n",
    "deleteme.each { |del|\n",
    "  tune[:line].delete! del\n",
    "  } \n",
    "puts tune[:line].delete! \" \"\n",
    "listofnotes = tune[:line]"
   ]
  },
  {
   "cell_type": "markdown",
   "metadata": {
    "collapsed": true
   },
   "source": [
    "## now tune[:line] should contain all notes, and nothing else. \n",
    "### Any other character left will give an error while parsing, but it will not crash the script. \n",
    "### Now one step left before parsing: \n",
    "### prepare the conversion table ABC notation to  note/octave notation of this script (Ac\\f\\ -> A3,C4,F4)"
   ]
  },
  {
   "cell_type": "code",
   "execution_count": 191,
   "metadata": {
    "collapsed": false
   },
   "outputs": [
    {
     "data": {
      "text/plain": [
       "{\"C,\"=>\"C#1\", \"D,\"=>\"D1\", \"E,\"=>\"E1\", \"F,\"=>\"F#1\", \"G,\"=>\"G1\", \"A,\"=>\"A1\", \"B,\"=>\"B1\", \"C\"=>\"C#2\", \"D\"=>\"D2\", \"E\"=>\"E2\", \"F\"=>\"F#2\", \"G\"=>\"G2\", \"A\"=>\"A2\", \"B\"=>\"B2\", \"c\"=>\"C#3\", \"d\"=>\"D3\", \"e\"=>\"E3\", \"f\"=>\"F#3\", \"g\"=>\"G3\", \"a\"=>\"A3\", \"b\"=>\"B3\", \"c'\"=>\"C#4\", \"d'\"=>\"D4\", \"e'\"=>\"E4\", \"f'\"=>\"F#4\", \"g'\"=>\"G4\", \"a'\"=>\"A4\", \"b'\"=>\"B4\"}"
      ]
     },
     "execution_count": 191,
     "metadata": {},
     "output_type": "execute_result"
    }
   ],
   "source": [
    "# CONVERT ABC NOTE LIKE c' to C4\n",
    "# TODO Key to Sharps.Flats\n",
    "abc2parse = { \n",
    "\"C,\"=> \"C1\",\n",
    "\"D,\"=> \"D1\",\n",
    "\"E,\"=> \"E1\",\n",
    "\"F,\"=> \"F1\",\n",
    "\"G,\"=> \"G1\",\n",
    "\"A,\"=> \"A1\",\n",
    "\"B,\"=> \"B1\",\n",
    "\"C\"=> \"C2\",\n",
    "\"D\"=> \"D2\",\n",
    "\"E\"=> \"E2\",\n",
    "\"F\"=> \"F2\",\n",
    "\"G\"=> \"G2\",\n",
    "\"A\"=> \"A2\",\n",
    "\"B\"=> \"B2\",\n",
    "\"c\"=> \"C3\",\n",
    "\"d\"=> \"D3\",\n",
    "\"e\"=> \"E3\",\n",
    "\"f\"=> \"F3\",\n",
    "\"g\"=> \"G3\",\n",
    "\"a\"=> \"A3\",\n",
    "\"b\"=> \"B3\",\n",
    "\"c\\'\"=> \"C4\",\n",
    "\"d\\'\"=> \"D4\",\n",
    "\"e\\'\"=> \"E4\",\n",
    "\"f\\'\"=> \"F4\",\n",
    "\"g\\'\"=> \"G4\",\n",
    "\"a\\'\"=> \"A4\",\n",
    "\"b\\'\"=> \"B4\"\n",
    "} \n",
    "\n",
    "\n",
    "# Now add the sharps \n",
    "# later version will also add any flats\n",
    "\n",
    "abc2js={}\n",
    "abc2parse.each {|key,value|\n",
    "  \n",
    "  note = key[0]\n",
    "  if sharps[note.upcase] != nil   \n",
    "    if sharps[note.upcase].include? tune[:key]\n",
    "       abc2js[key] = value[0]+\"#\"+value[1]    # or .insert(1,\"#\")\n",
    "    else \n",
    "       abc2js[key] = value\n",
    "    end\n",
    "  else \n",
    "    abc2js[key] = value\n",
    "  end\n",
    "  }\n",
    "\n",
    "# thanks for keeping the results\n",
    "abc2parse = abc2js.dup"
   ]
  },
  {
   "cell_type": "markdown",
   "metadata": {
    "collapsed": true
   },
   "source": [
    "## Now lets make an array of the notes to play, notes will be in the notation of this script, like [A3 B3 C4]. \n",
    "\n",
    "\n",
    "#### this is very basic parsing\n",
    "\n",
    "Start at the very beginning of  listofnotes\n",
    "* try 3 chars, does it exist in the list of notes? do it!\n",
    "* try 2 chars, does it exist? do it!\n",
    "* try 1 char , does it exist? do it!\n",
    "* Otherwise: error. Delete on char and continue\n",
    "\n",
    "\n"
   ]
  },
  {
   "cell_type": "code",
   "execution_count": 192,
   "metadata": {
    "collapsed": false
   },
   "outputs": [
    {
     "data": {
      "text/plain": [
       "{:number=>\"1\", :title=>\"PatsyGeary's\", :rhythm=>\"slide\", :meas=>\"12/8\", :notelen=>\"1/8\", :key=>\"Dmaj\", :line=>\"AGFAAFABcBAGFAdeffefgfgfefedBABAAFDEEAGABAefeddefefefefgaABABAFABAABdefeefeefedfabafafeddeddA\"}"
      ]
     },
     "execution_count": 192,
     "metadata": {},
     "output_type": "execute_result"
    }
   ],
   "source": [
    "tune"
   ]
  },
  {
   "cell_type": "code",
   "execution_count": 193,
   "metadata": {
    "collapsed": false
   },
   "outputs": [
    {
     "name": "stdout",
     "output_type": "stream",
     "text": [
      "[\"A2\", \"G2\", \"F#2\", \"A2\", \"A2\", \"F#2\", \"A2\", \"B2\", \"C#3\", \"B2\", \"A2\", \"G2\", \"F#2\", \"A2\", \"D3\", \"E3\", \"F#3\", \"F#3\", \"E3\", \"F#3\", \"G3\", \"F#3\", \"G3\", \"F#3\", \"E3\", \"F#3\", \"E3\", \"D3\", \"B2\", \"A2\", \"B2\", \"A2\", \"A2\", \"F#2\", \"D2\", \"E2\", \"E2\", \"A2\", \"G2\", \"A2\", \"B2\", \"A2\", \"E3\", \"F#3\", \"E3\", \"D3\", \"D3\", \"E3\", \"F#3\", \"E3\", \"F#3\", \"E3\", \"F#3\", \"E3\", \"F#3\", \"G3\", \"A3\", \"A2\", \"B2\", \"A2\", \"B2\", \"A2\", \"F#2\", \"A2\", \"B2\", \"A2\", \"A2\", \"B2\", \"D3\", \"E3\", \"F#3\", \"E3\", \"E3\", \"F#3\", \"E3\", \"E3\", \"F#3\", \"E3\", \"D3\", \"F#3\", \"A3\", \"B3\", \"A3\", \"F#3\", \"A3\", \"F#3\", \"E3\", \"D3\", \"D3\", \"E3\", \"D3\", \"D3\", \"A2\"]\n"
     ]
    }
   ],
   "source": [
    "a =[]\n",
    "\n",
    "while listofnotes != nil do\n",
    "  found = false\n",
    "  for i in [2,1,0] do  #it should finish when found\n",
    "    if not found\n",
    "      if abc2parse.include? listofnotes[0..i]\n",
    "        found = true \n",
    "        foundnote = listofnotes[0..i]\n",
    "        \n",
    "        a << abc2parse[foundnote]\n",
    "        listofnotes = listofnotes[i+1..-1]    # strip i chars, keep the rest ; -1=last char of string    \n",
    "      end # if include?\n",
    "    end   # if notfound\n",
    "  end     # for\n",
    "  \n",
    "  if not found    #still not found?\n",
    "    puts \"Thats an error on \"+listofnotes[0..2]\n",
    "    listofnotes = listofnotes[1..-1]\n",
    "  end # if\n",
    "end   # while\n",
    "\n",
    "puts a \n"
   ]
  },
  {
   "cell_type": "markdown",
   "metadata": {},
   "source": [
    "## Array a is an array of notes. \n",
    "\n",
    "## At this point two seperate scripts are glued together. We'll do the Easy way now: "
   ]
  },
  {
   "cell_type": "code",
   "execution_count": 194,
   "metadata": {
    "collapsed": false
   },
   "outputs": [
    {
     "name": "stderr",
     "output_type": "stream",
     "text": [
      "<main>:1: warning: already initialized constant Saved_old_tune\n",
      "<main>:1: warning: previous definition of Saved_old_tune was here\n"
     ]
    },
    {
     "data": {
      "text/plain": [
       "[\"A2\", \"G2\", \"F#2\", \"A2\", \"A2\", \"F#2\", \"A2\", \"B2\", \"C#3\", \"B2\", \"A2\", \"G2\", \"F#2\", \"A2\", \"D3\", \"E3\", \"F#3\", \"F#3\", \"E3\", \"F#3\", \"G3\", \"F#3\", \"G3\", \"F#3\", \"E3\", \"F#3\", \"E3\", \"D3\", \"B2\", \"A2\", \"B2\", \"A2\", \"A2\", \"F#2\", \"D2\", \"E2\", \"E2\", \"A2\", \"G2\", \"A2\", \"B2\", \"A2\", \"E3\", \"F#3\", \"E3\", \"D3\", \"D3\", \"E3\", \"F#3\", \"E3\", \"F#3\", \"E3\", \"F#3\", \"E3\", \"F#3\", \"G3\", \"A3\", \"A2\", \"B2\", \"A2\", \"B2\", \"A2\", \"F#2\", \"A2\", \"B2\", \"A2\", \"A2\", \"B2\", \"D3\", \"E3\", \"F#3\", \"E3\", \"E3\", \"F#3\", \"E3\", \"E3\", \"F#3\", \"E3\", \"D3\", \"F#3\", \"A3\", \"B3\", \"A3\", \"F#3\", \"A3\", \"F#3\", \"E3\", \"D3\", \"D3\", \"E3\", \"D3\", \"D3\", \"A2\"]"
      ]
     },
     "execution_count": 194,
     "metadata": {},
     "output_type": "execute_result"
    }
   ],
   "source": [
    "Saved_old_tune= tune\n",
    "tune = a"
   ]
  },
  {
   "cell_type": "markdown",
   "metadata": {},
   "source": [
    "# let's make a few lists\n",
    "\n",
    "$tinakeys: the 30 buttons make 60 notes! These are mine, it can be different on yours."
   ]
  },
  {
   "cell_type": "code",
   "execution_count": 195,
   "metadata": {
    "collapsed": false
   },
   "outputs": [
    {
     "data": {
      "text/plain": [
       "{1=>{\"side\"=>1, \"sidename\"=>\"left\", \"row\"=>1, \"rowname\"=>\"t\", \"button\"=>5, \"pushpull\"=>1, \"ppname\"=>\"push\", \"note\"=>\"E1\"}, 2=>{\"side\"=>1, \"sidename\"=>\"left\", \"row\"=>1, \"rowname\"=>\"t\", \"button\"=>4, \"pushpull\"=>1, \"ppname\"=>\"push\", \"note\"=>\"A1\"}, 3=>{\"side\"=>1, \"sidename\"=>\"left\", \"row\"=>1, \"rowname\"=>\"t\", \"button\"=>3, \"pushpull\"=>1, \"ppname\"=>\"push\", \"note\"=>\"C#2\"}, 4=>{\"side\"=>1, \"sidename\"=>\"left\", \"row\"=>1, \"rowname\"=>\"t\", \"button\"=>2, \"pushpull\"=>1, \"ppname\"=>\"push\", \"note\"=>\"A2\"}, 5=>{\"side\"=>1, \"sidename\"=>\"left\", \"row\"=>1, \"rowname\"=>\"t\", \"button\"=>1, \"pushpull\"=>1, \"ppname\"=>\"push\", \"note\"=>\"G#2\"}, 6=>{\"side\"=>1, \"sidename\"=>\"left\", \"row\"=>2, \"rowname\"=>\"c\", \"button\"=>5, \"pushpull\"=>1, \"ppname\"=>\"push\", \"note\"=>\"C1\"}, 7=>{\"side\"=>1, \"sidename\"=>\"left\", \"row\"=>2, \"rowname\"=>\"c\", \"button\"=>4, \"pushpull\"=>1, \"ppname\"=>\"push\", \"note\"=>\"G1\"}, 8=>{\"side\"=>1, \"sidename\"=>\"left\", \"row\"=>2, \"rowname\"=>\"c\", \"button\"=>3, \"pushpull\"=>1, \"ppname\"=>\"push\", \"note\"=>\"C2\"}, 9=>{\"side\"=>1, \"sidename\"=>\"left\", \"row\"=>2, \"rowname\"=>\"c\", \"button\"=>2, \"pushpull\"=>1, \"ppname\"=>\"push\", \"note\"=>\"E2\"}, 10=>{\"side\"=>1, \"sidename\"=>\"left\", \"row\"=>2, \"rowname\"=>\"c\", \"button\"=>1, \"pushpull\"=>1, \"ppname\"=>\"push\", \"note\"=>\"G2\"}, 11=>{\"side\"=>1, \"sidename\"=>\"left\", \"row\"=>3, \"rowname\"=>\"g\", \"button\"=>5, \"pushpull\"=>1, \"ppname\"=>\"push\", \"note\"=>\"B1\"}, 12=>{\"side\"=>1, \"sidename\"=>\"left\", \"row\"=>3, \"rowname\"=>\"g\", \"button\"=>4, \"pushpull\"=>1, \"ppname\"=>\"push\", \"note\"=>\"D2\"}, 13=>{\"side\"=>1, \"sidename\"=>\"left\", \"row\"=>3, \"rowname\"=>\"g\", \"button\"=>3, \"pushpull\"=>1, \"ppname\"=>\"push\", \"note\"=>\"G2\"}, 14=>{\"side\"=>1, \"sidename\"=>\"left\", \"row\"=>3, \"rowname\"=>\"g\", \"button\"=>2, \"pushpull\"=>1, \"ppname\"=>\"push\", \"note\"=>\"B2\"}, 15=>{\"side\"=>1, \"sidename\"=>\"left\", \"row\"=>3, \"rowname\"=>\"g\", \"button\"=>1, \"pushpull\"=>1, \"ppname\"=>\"push\", \"note\"=>\"D3\"}, 16=>{\"side\"=>1, \"sidename\"=>\"left\", \"row\"=>1, \"rowname\"=>\"t\", \"button\"=>5, \"pushpull\"=>2, \"ppname\"=>\"pull\", \"note\"=>\"F1\"}, 17=>{\"side\"=>1, \"sidename\"=>\"left\", \"row\"=>1, \"rowname\"=>\"t\", \"button\"=>4, \"pushpull\"=>2, \"ppname\"=>\"pull\", \"note\"=>\"BB1\"}, 18=>{\"side\"=>1, \"sidename\"=>\"left\", \"row\"=>1, \"rowname\"=>\"t\", \"button\"=>3, \"pushpull\"=>2, \"ppname\"=>\"pull\", \"note\"=>\"D#2\"}, 19=>{\"side\"=>1, \"sidename\"=>\"left\", \"row\"=>1, \"rowname\"=>\"t\", \"button\"=>2, \"pushpull\"=>2, \"ppname\"=>\"pull\", \"note\"=>\"G2\"}, 20=>{\"side\"=>1, \"sidename\"=>\"left\", \"row\"=>1, \"rowname\"=>\"t\", \"button\"=>1, \"pushpull\"=>2, \"ppname\"=>\"pull\", \"note\"=>\"BB2\"}, 21=>{\"side\"=>1, \"sidename\"=>\"left\", \"row\"=>2, \"rowname\"=>\"c\", \"button\"=>5, \"pushpull\"=>2, \"ppname\"=>\"pull\", \"note\"=>\"G1\"}, 22=>{\"side\"=>1, \"sidename\"=>\"left\", \"row\"=>2, \"rowname\"=>\"c\", \"button\"=>4, \"pushpull\"=>2, \"ppname\"=>\"pull\", \"note\"=>\"B1\"}, 23=>{\"side\"=>1, \"sidename\"=>\"left\", \"row\"=>2, \"rowname\"=>\"c\", \"button\"=>3, \"pushpull\"=>2, \"ppname\"=>\"pull\", \"note\"=>\"D2\"}, 24=>{\"side\"=>1, \"sidename\"=>\"left\", \"row\"=>2, \"rowname\"=>\"c\", \"button\"=>2, \"pushpull\"=>2, \"ppname\"=>\"pull\", \"note\"=>\"F2\"}, 25=>{\"side\"=>1, \"sidename\"=>\"left\", \"row\"=>2, \"rowname\"=>\"c\", \"button\"=>1, \"pushpull\"=>2, \"ppname\"=>\"pull\", \"note\"=>\"A2\"}, 26=>{\"side\"=>1, \"sidename\"=>\"left\", \"row\"=>3, \"rowname\"=>\"g\", \"button\"=>5, \"pushpull\"=>2, \"ppname\"=>\"pull\", \"note\"=>\"A1\"}, 27=>{\"side\"=>1, \"sidename\"=>\"left\", \"row\"=>3, \"rowname\"=>\"g\", \"button\"=>4, \"pushpull\"=>2, \"ppname\"=>\"pull\", \"note\"=>\"F#2\"}, 28=>{\"side\"=>1, \"sidename\"=>\"left\", \"row\"=>3, \"rowname\"=>\"g\", \"button\"=>3, \"pushpull\"=>2, \"ppname\"=>\"pull\", \"note\"=>\"A2\"}, 29=>{\"side\"=>1, \"sidename\"=>\"left\", \"row\"=>3, \"rowname\"=>\"g\", \"button\"=>2, \"pushpull\"=>2, \"ppname\"=>\"pull\", \"note\"=>\"C3\"}, 30=>{\"side\"=>1, \"sidename\"=>\"left\", \"row\"=>3, \"rowname\"=>\"g\", \"button\"=>1, \"pushpull\"=>2, \"ppname\"=>\"pull\", \"note\"=>\"E3\"}, 31=>{\"side\"=>2, \"sidename\"=>\"right\", \"row\"=>1, \"rowname\"=>\"t\", \"button\"=>1, \"pushpull\"=>1, \"ppname\"=>\"push\", \"note\"=>\"C#3\"}, 32=>{\"side\"=>2, \"sidename\"=>\"right\", \"row\"=>1, \"rowname\"=>\"t\", \"button\"=>2, \"pushpull\"=>1, \"ppname\"=>\"push\", \"note\"=>\"C#3\"}, 33=>{\"side\"=>2, \"sidename\"=>\"right\", \"row\"=>1, \"rowname\"=>\"t\", \"button\"=>3, \"pushpull\"=>1, \"ppname\"=>\"push\", \"note\"=>\"G#3\"}, 34=>{\"side\"=>2, \"sidename\"=>\"right\", \"row\"=>1, \"rowname\"=>\"t\", \"button\"=>4, \"pushpull\"=>1, \"ppname\"=>\"push\", \"note\"=>\"C#4\"}, 35=>{\"side\"=>2, \"sidename\"=>\"right\", \"row\"=>1, \"rowname\"=>\"t\", \"button\"=>5, \"pushpull\"=>1, \"ppname\"=>\"push\", \"note\"=>\"A4\"}, 36=>{\"side\"=>2, \"sidename\"=>\"right\", \"row\"=>2, \"rowname\"=>\"c\", \"button\"=>1, \"pushpull\"=>1, \"ppname\"=>\"push\", \"note\"=>\"C3\"}, 37=>{\"side\"=>2, \"sidename\"=>\"right\", \"row\"=>2, \"rowname\"=>\"c\", \"button\"=>2, \"pushpull\"=>1, \"ppname\"=>\"push\", \"note\"=>\"E3\"}, 38=>{\"side\"=>2, \"sidename\"=>\"right\", \"row\"=>2, \"rowname\"=>\"c\", \"button\"=>3, \"pushpull\"=>1, \"ppname\"=>\"push\", \"note\"=>\"G3\"}, 39=>{\"side\"=>2, \"sidename\"=>\"right\", \"row\"=>2, \"rowname\"=>\"c\", \"button\"=>4, \"pushpull\"=>1, \"ppname\"=>\"push\", \"note\"=>\"C4\"}, 40=>{\"side\"=>2, \"sidename\"=>\"right\", \"row\"=>2, \"rowname\"=>\"c\", \"button\"=>5, \"pushpull\"=>1, \"ppname\"=>\"push\", \"note\"=>\"E4\"}, 41=>{\"side\"=>2, \"sidename\"=>\"right\", \"row\"=>3, \"rowname\"=>\"g\", \"button\"=>1, \"pushpull\"=>1, \"ppname\"=>\"push\", \"note\"=>\"G3\"}, 42=>{\"side\"=>2, \"sidename\"=>\"right\", \"row\"=>3, \"rowname\"=>\"g\", \"button\"=>2, \"pushpull\"=>1, \"ppname\"=>\"push\", \"note\"=>\"B3\"}, 43=>{\"side\"=>2, \"sidename\"=>\"right\", \"row\"=>3, \"rowname\"=>\"g\", \"button\"=>3, \"pushpull\"=>1, \"ppname\"=>\"push\", \"note\"=>\"D4\"}, 44=>{\"side\"=>2, \"sidename\"=>\"right\", \"row\"=>3, \"rowname\"=>\"g\", \"button\"=>4, \"pushpull\"=>1, \"ppname\"=>\"push\", \"note\"=>\"G4\"}, 45=>{\"side\"=>2, \"sidename\"=>\"right\", \"row\"=>3, \"rowname\"=>\"g\", \"button\"=>5, \"pushpull\"=>1, \"ppname\"=>\"push\", \"note\"=>\"D#4\"}, 46=>{\"side\"=>2, \"sidename\"=>\"right\", \"row\"=>1, \"rowname\"=>\"t\", \"button\"=>1, \"pushpull\"=>2, \"ppname\"=>\"pull\", \"note\"=>\"C#3\"}, 47=>{\"side\"=>2, \"sidename\"=>\"right\", \"row\"=>1, \"rowname\"=>\"t\", \"button\"=>2, \"pushpull\"=>2, \"ppname\"=>\"pull\", \"note\"=>\"D#3\"}, 48=>{\"side\"=>2, \"sidename\"=>\"right\", \"row\"=>1, \"rowname\"=>\"t\", \"button\"=>3, \"pushpull\"=>2, \"ppname\"=>\"pull\", \"note\"=>\"G3\"}, 49=>{\"side\"=>2, \"sidename\"=>\"right\", \"row\"=>1, \"rowname\"=>\"t\", \"button\"=>4, \"pushpull\"=>2, \"ppname\"=>\"pull\", \"note\"=>\"BB3\"}, 50=>{\"side\"=>2, \"sidename\"=>\"right\", \"row\"=>1, \"rowname\"=>\"t\", \"button\"=>5, \"pushpull\"=>2, \"ppname\"=>\"pull\", \"note\"=>\"D4\"}, 51=>{\"side\"=>2, \"sidename\"=>\"right\", \"row\"=>2, \"rowname\"=>\"c\", \"button\"=>1, \"pushpull\"=>2, \"ppname\"=>\"pull\", \"note\"=>\"B2\"}, 52=>{\"side\"=>2, \"sidename\"=>\"right\", \"row\"=>2, \"rowname\"=>\"c\", \"button\"=>2, \"pushpull\"=>2, \"ppname\"=>\"pull\", \"note\"=>\"D3\"}, 53=>{\"side\"=>2, \"sidename\"=>\"right\", \"row\"=>2, \"rowname\"=>\"c\", \"button\"=>3, \"pushpull\"=>2, \"ppname\"=>\"pull\", \"note\"=>\"F3\"}, 54=>{\"side\"=>2, \"sidename\"=>\"right\", \"row\"=>2, \"rowname\"=>\"c\", \"button\"=>4, \"pushpull\"=>2, \"ppname\"=>\"pull\", \"note\"=>\"A3\"}, 55=>{\"side\"=>2, \"sidename\"=>\"right\", \"row\"=>2, \"rowname\"=>\"c\", \"button\"=>5, \"pushpull\"=>2, \"ppname\"=>\"pull\", \"note\"=>\"B3\"}, 56=>{\"side\"=>2, \"sidename\"=>\"right\", \"row\"=>3, \"rowname\"=>\"g\", \"button\"=>1, \"pushpull\"=>2, \"ppname\"=>\"pull\", \"note\"=>\"F#3\"}, 57=>{\"side\"=>2, \"sidename\"=>\"right\", \"row\"=>3, \"rowname\"=>\"g\", \"button\"=>2, \"pushpull\"=>2, \"ppname\"=>\"pull\", \"note\"=>\"A3\"}, 58=>{\"side\"=>2, \"sidename\"=>\"right\", \"row\"=>3, \"rowname\"=>\"g\", \"button\"=>3, \"pushpull\"=>2, \"ppname\"=>\"pull\", \"note\"=>\"C4\"}, 59=>{\"side\"=>2, \"sidename\"=>\"right\", \"row\"=>3, \"rowname\"=>\"g\", \"button\"=>4, \"pushpull\"=>2, \"ppname\"=>\"pull\", \"note\"=>\"E4\"}, 60=>{\"side\"=>2, \"sidename\"=>\"right\", \"row\"=>3, \"rowname\"=>\"g\", \"button\"=>5, \"pushpull\"=>2, \"ppname\"=>\"pull\", \"note\"=>\"F#4\"}}"
      ]
     },
     "execution_count": 195,
     "metadata": {},
     "output_type": "execute_result"
    }
   ],
   "source": [
    "#\n",
    "# these are the concertina keys in a hash\n",
    "# made in: map3.xlsx, dropbox folder 60\n",
    "#\n",
    "\n",
    "$tinakeys={\n",
    " 1=>{\"side\" => 1, \"sidename\" => \"left\", \"row\" => 1, \"rowname\" => \"t\", \"button\" => 5, \"pushpull\" => 1, \"ppname\" => \"push\", \"note\" => \"E1\"},\n",
    " 2=>{\"side\" => 1, \"sidename\" => \"left\", \"row\" => 1, \"rowname\" => \"t\", \"button\" => 4, \"pushpull\" => 1, \"ppname\" => \"push\", \"note\" => \"A1\"},\n",
    " 3=>{\"side\" => 1, \"sidename\" => \"left\", \"row\" => 1, \"rowname\" => \"t\", \"button\" => 3, \"pushpull\" => 1, \"ppname\" => \"push\", \"note\" => \"C#2\"},\n",
    " 4=>{\"side\" => 1, \"sidename\" => \"left\", \"row\" => 1, \"rowname\" => \"t\", \"button\" => 2, \"pushpull\" => 1, \"ppname\" => \"push\", \"note\" => \"A2\"},\n",
    " 5=>{\"side\" => 1, \"sidename\" => \"left\", \"row\" => 1, \"rowname\" => \"t\", \"button\" => 1, \"pushpull\" => 1, \"ppname\" => \"push\", \"note\" => \"G#2\"},\n",
    " 6=>{\"side\" => 1, \"sidename\" => \"left\", \"row\" => 2, \"rowname\" => \"c\", \"button\" => 5, \"pushpull\" => 1, \"ppname\" => \"push\", \"note\" => \"C1\"},\n",
    " 7=>{\"side\" => 1, \"sidename\" => \"left\", \"row\" => 2, \"rowname\" => \"c\", \"button\" => 4, \"pushpull\" => 1, \"ppname\" => \"push\", \"note\" => \"G1\"},\n",
    " 8=>{\"side\" => 1, \"sidename\" => \"left\", \"row\" => 2, \"rowname\" => \"c\", \"button\" => 3, \"pushpull\" => 1, \"ppname\" => \"push\", \"note\" => \"C2\"},\n",
    " 9=>{\"side\" => 1, \"sidename\" => \"left\", \"row\" => 2, \"rowname\" => \"c\", \"button\" => 2, \"pushpull\" => 1, \"ppname\" => \"push\", \"note\" => \"E2\"},\n",
    "10=>{\"side\" => 1, \"sidename\" => \"left\", \"row\" => 2, \"rowname\" => \"c\", \"button\" => 1, \"pushpull\" => 1, \"ppname\" => \"push\", \"note\" => \"G2\"},\n",
    "11=>{\"side\" => 1, \"sidename\" => \"left\", \"row\" => 3, \"rowname\" => \"g\", \"button\" => 5, \"pushpull\" => 1, \"ppname\" => \"push\", \"note\" => \"B1\"},\n",
    "12=>{\"side\" => 1, \"sidename\" => \"left\", \"row\" => 3, \"rowname\" => \"g\", \"button\" => 4, \"pushpull\" => 1, \"ppname\" => \"push\", \"note\" => \"D2\"},\n",
    "13=>{\"side\" => 1, \"sidename\" => \"left\", \"row\" => 3, \"rowname\" => \"g\", \"button\" => 3, \"pushpull\" => 1, \"ppname\" => \"push\", \"note\" => \"G2\"},\n",
    "14=>{\"side\" => 1, \"sidename\" => \"left\", \"row\" => 3, \"rowname\" => \"g\", \"button\" => 2, \"pushpull\" => 1, \"ppname\" => \"push\", \"note\" => \"B2\"},\n",
    "15=>{\"side\" => 1, \"sidename\" => \"left\", \"row\" => 3, \"rowname\" => \"g\", \"button\" => 1, \"pushpull\" => 1, \"ppname\" => \"push\", \"note\" => \"D3\"},\n",
    "16=>{\"side\" => 1, \"sidename\" => \"left\", \"row\" => 1, \"rowname\" => \"t\", \"button\" => 5, \"pushpull\" => 2, \"ppname\" => \"pull\", \"note\" => \"F1\"},\n",
    "17=>{\"side\" => 1, \"sidename\" => \"left\", \"row\" => 1, \"rowname\" => \"t\", \"button\" => 4, \"pushpull\" => 2, \"ppname\" => \"pull\", \"note\" => \"BB1\"},\n",
    "18=>{\"side\" => 1, \"sidename\" => \"left\", \"row\" => 1, \"rowname\" => \"t\", \"button\" => 3, \"pushpull\" => 2, \"ppname\" => \"pull\", \"note\" => \"D#2\"},\n",
    "19=>{\"side\" => 1, \"sidename\" => \"left\", \"row\" => 1, \"rowname\" => \"t\", \"button\" => 2, \"pushpull\" => 2, \"ppname\" => \"pull\", \"note\" => \"G2\"},\n",
    "20=>{\"side\" => 1, \"sidename\" => \"left\", \"row\" => 1, \"rowname\" => \"t\", \"button\" => 1, \"pushpull\" => 2, \"ppname\" => \"pull\", \"note\" => \"BB2\"},\n",
    "21=>{\"side\" => 1, \"sidename\" => \"left\", \"row\" => 2, \"rowname\" => \"c\", \"button\" => 5, \"pushpull\" => 2, \"ppname\" => \"pull\", \"note\" => \"G1\"},\n",
    "22=>{\"side\" => 1, \"sidename\" => \"left\", \"row\" => 2, \"rowname\" => \"c\", \"button\" => 4, \"pushpull\" => 2, \"ppname\" => \"pull\", \"note\" => \"B1\"},\n",
    "23=>{\"side\" => 1, \"sidename\" => \"left\", \"row\" => 2, \"rowname\" => \"c\", \"button\" => 3, \"pushpull\" => 2, \"ppname\" => \"pull\", \"note\" => \"D2\"},\n",
    "24=>{\"side\" => 1, \"sidename\" => \"left\", \"row\" => 2, \"rowname\" => \"c\", \"button\" => 2, \"pushpull\" => 2, \"ppname\" => \"pull\", \"note\" => \"F2\"},\n",
    "25=>{\"side\" => 1, \"sidename\" => \"left\", \"row\" => 2, \"rowname\" => \"c\", \"button\" => 1, \"pushpull\" => 2, \"ppname\" => \"pull\", \"note\" => \"A2\"},\n",
    "26=>{\"side\" => 1, \"sidename\" => \"left\", \"row\" => 3, \"rowname\" => \"g\", \"button\" => 5, \"pushpull\" => 2, \"ppname\" => \"pull\", \"note\" => \"A1\"},\n",
    "27=>{\"side\" => 1, \"sidename\" => \"left\", \"row\" => 3, \"rowname\" => \"g\", \"button\" => 4, \"pushpull\" => 2, \"ppname\" => \"pull\", \"note\" => \"F#2\"},\n",
    "28=>{\"side\" => 1, \"sidename\" => \"left\", \"row\" => 3, \"rowname\" => \"g\", \"button\" => 3, \"pushpull\" => 2, \"ppname\" => \"pull\", \"note\" => \"A2\"},\n",
    "29=>{\"side\" => 1, \"sidename\" => \"left\", \"row\" => 3, \"rowname\" => \"g\", \"button\" => 2, \"pushpull\" => 2, \"ppname\" => \"pull\", \"note\" => \"C3\"},\n",
    "30=>{\"side\" => 1, \"sidename\" => \"left\", \"row\" => 3, \"rowname\" => \"g\", \"button\" => 1, \"pushpull\" => 2, \"ppname\" => \"pull\", \"note\" => \"E3\"},\n",
    "31=>{\"side\" => 2, \"sidename\" => \"right\", \"row\" => 1, \"rowname\" => \"t\", \"button\" => 1, \"pushpull\" => 1, \"ppname\" => \"push\", \"note\" => \"C#3\"},\n",
    "32=>{\"side\" => 2, \"sidename\" => \"right\", \"row\" => 1, \"rowname\" => \"t\", \"button\" => 2, \"pushpull\" => 1, \"ppname\" => \"push\", \"note\" => \"C#3\"},\n",
    "33=>{\"side\" => 2, \"sidename\" => \"right\", \"row\" => 1, \"rowname\" => \"t\", \"button\" => 3, \"pushpull\" => 1, \"ppname\" => \"push\", \"note\" => \"G#3\"},\n",
    "34=>{\"side\" => 2, \"sidename\" => \"right\", \"row\" => 1, \"rowname\" => \"t\", \"button\" => 4, \"pushpull\" => 1, \"ppname\" => \"push\", \"note\" => \"C#4\"},\n",
    "35=>{\"side\" => 2, \"sidename\" => \"right\", \"row\" => 1, \"rowname\" => \"t\", \"button\" => 5, \"pushpull\" => 1, \"ppname\" => \"push\", \"note\" => \"A4\"},\n",
    "36=>{\"side\" => 2, \"sidename\" => \"right\", \"row\" => 2, \"rowname\" => \"c\", \"button\" => 1, \"pushpull\" => 1, \"ppname\" => \"push\", \"note\" => \"C3\"},\n",
    "37=>{\"side\" => 2, \"sidename\" => \"right\", \"row\" => 2, \"rowname\" => \"c\", \"button\" => 2, \"pushpull\" => 1, \"ppname\" => \"push\", \"note\" => \"E3\"},\n",
    "38=>{\"side\" => 2, \"sidename\" => \"right\", \"row\" => 2, \"rowname\" => \"c\", \"button\" => 3, \"pushpull\" => 1, \"ppname\" => \"push\", \"note\" => \"G3\"},\n",
    "39=>{\"side\" => 2, \"sidename\" => \"right\", \"row\" => 2, \"rowname\" => \"c\", \"button\" => 4, \"pushpull\" => 1, \"ppname\" => \"push\", \"note\" => \"C4\"},\n",
    "40=>{\"side\" => 2, \"sidename\" => \"right\", \"row\" => 2, \"rowname\" => \"c\", \"button\" => 5, \"pushpull\" => 1, \"ppname\" => \"push\", \"note\" => \"E4\"},\n",
    "41=>{\"side\" => 2, \"sidename\" => \"right\", \"row\" => 3, \"rowname\" => \"g\", \"button\" => 1, \"pushpull\" => 1, \"ppname\" => \"push\", \"note\" => \"G3\"},\n",
    "42=>{\"side\" => 2, \"sidename\" => \"right\", \"row\" => 3, \"rowname\" => \"g\", \"button\" => 2, \"pushpull\" => 1, \"ppname\" => \"push\", \"note\" => \"B3\"},\n",
    "43=>{\"side\" => 2, \"sidename\" => \"right\", \"row\" => 3, \"rowname\" => \"g\", \"button\" => 3, \"pushpull\" => 1, \"ppname\" => \"push\", \"note\" => \"D4\"},\n",
    "44=>{\"side\" => 2, \"sidename\" => \"right\", \"row\" => 3, \"rowname\" => \"g\", \"button\" => 4, \"pushpull\" => 1, \"ppname\" => \"push\", \"note\" => \"G4\"},\n",
    "45=>{\"side\" => 2, \"sidename\" => \"right\", \"row\" => 3, \"rowname\" => \"g\", \"button\" => 5, \"pushpull\" => 1, \"ppname\" => \"push\", \"note\" => \"D#4\"},\n",
    "46=>{\"side\" => 2, \"sidename\" => \"right\", \"row\" => 1, \"rowname\" => \"t\", \"button\" => 1, \"pushpull\" => 2, \"ppname\" => \"pull\", \"note\" => \"C#3\"},\n",
    "47=>{\"side\" => 2, \"sidename\" => \"right\", \"row\" => 1, \"rowname\" => \"t\", \"button\" => 2, \"pushpull\" => 2, \"ppname\" => \"pull\", \"note\" => \"D#3\"},\n",
    "48=>{\"side\" => 2, \"sidename\" => \"right\", \"row\" => 1, \"rowname\" => \"t\", \"button\" => 3, \"pushpull\" => 2, \"ppname\" => \"pull\", \"note\" => \"G3\"},\n",
    "49=>{\"side\" => 2, \"sidename\" => \"right\", \"row\" => 1, \"rowname\" => \"t\", \"button\" => 4, \"pushpull\" => 2, \"ppname\" => \"pull\", \"note\" => \"BB3\"},\n",
    "50=>{\"side\" => 2, \"sidename\" => \"right\", \"row\" => 1, \"rowname\" => \"t\", \"button\" => 5, \"pushpull\" => 2, \"ppname\" => \"pull\", \"note\" => \"D4\"},\n",
    "51=>{\"side\" => 2, \"sidename\" => \"right\", \"row\" => 2, \"rowname\" => \"c\", \"button\" => 1, \"pushpull\" => 2, \"ppname\" => \"pull\", \"note\" => \"B2\"},\n",
    "52=>{\"side\" => 2, \"sidename\" => \"right\", \"row\" => 2, \"rowname\" => \"c\", \"button\" => 2, \"pushpull\" => 2, \"ppname\" => \"pull\", \"note\" => \"D3\"},\n",
    "53=>{\"side\" => 2, \"sidename\" => \"right\", \"row\" => 2, \"rowname\" => \"c\", \"button\" => 3, \"pushpull\" => 2, \"ppname\" => \"pull\", \"note\" => \"F3\"},\n",
    "54=>{\"side\" => 2, \"sidename\" => \"right\", \"row\" => 2, \"rowname\" => \"c\", \"button\" => 4, \"pushpull\" => 2, \"ppname\" => \"pull\", \"note\" => \"A3\"},\n",
    "55=>{\"side\" => 2, \"sidename\" => \"right\", \"row\" => 2, \"rowname\" => \"c\", \"button\" => 5, \"pushpull\" => 2, \"ppname\" => \"pull\", \"note\" => \"B3\"},\n",
    "56=>{\"side\" => 2, \"sidename\" => \"right\", \"row\" => 3, \"rowname\" => \"g\", \"button\" => 1, \"pushpull\" => 2, \"ppname\" => \"pull\", \"note\" => \"F#3\"},\n",
    "57=>{\"side\" => 2, \"sidename\" => \"right\", \"row\" => 3, \"rowname\" => \"g\", \"button\" => 2, \"pushpull\" => 2, \"ppname\" => \"pull\", \"note\" => \"A3\"},\n",
    "58=>{\"side\" => 2, \"sidename\" => \"right\", \"row\" => 3, \"rowname\" => \"g\", \"button\" => 3, \"pushpull\" => 2, \"ppname\" => \"pull\", \"note\" => \"C4\"},\n",
    "59=>{\"side\" => 2, \"sidename\" => \"right\", \"row\" => 3, \"rowname\" => \"g\", \"button\" => 4, \"pushpull\" => 2, \"ppname\" => \"pull\", \"note\" => \"E4\"},\n",
    "60=>{\"side\" => 2, \"sidename\" => \"right\", \"row\" => 3, \"rowname\" => \"g\", \"button\" => 5, \"pushpull\" => 2, \"ppname\" => \"pull\", \"note\" => \"F#4\"}\n",
    "};\n",
    "\n"
   ]
  },
  {
   "cell_type": "markdown",
   "metadata": {},
   "source": [
    "# The numbers of the buttons\n",
    "$tinakeys[15] is now:: \n",
    "{\n",
    "\"side\"=>1, \n",
    "\"sidename\"=>\"left\", \n",
    "\"row\"=>3, \n",
    "\"rowname\"=>\"g\", \n",
    "\"button\"=>1, \n",
    "\"pushpull\"=>1, \n",
    "\"ppname\"=>\"push\", \n",
    "\"note\"=>\"D3\"\n",
    "}\n",
    "\n",
    "\n",
    "These numbers are arbitrary:\n",
    " number 1 is Left Side at top row, outer button, push.\n",
    " 1..15 are all buttons on the left site, starting top row, outer button\n",
    " 16..30 are the same button, but pulled.\n",
    " \n",
    " 31..45 and 46..60 are the buttons on the right side, \n",
    " starting with push again.\n",
    " \n",
    "\n",
    "So $tinakeys[15] is the D3 \n",
    "* on the left side (side=2, sidename=left)\n",
    "* on the bottom row (rowname g, row 3 in this script), \n",
    "* inner button which is for finger 1, \n",
    "* on push (which is also pushpull=2 in this script). \n"
   ]
  },
  {
   "cell_type": "markdown",
   "metadata": {},
   "source": [
    "## $tinamap = onscreen names of buttons"
   ]
  },
  {
   "cell_type": "code",
   "execution_count": 196,
   "metadata": {
    "collapsed": false
   },
   "outputs": [
    {
     "data": {
      "text/plain": [
       "{1=>{\"side\"=>1, \"sidename\"=>\"left\", \"row\"=>1, \"rowname\"=>\"t\", \"button\"=>5, \"pushpull\"=>1, \"ppname\"=>\"push\", \"note\"=>\"E1\"}, 2=>{\"side\"=>1, \"sidename\"=>\"left\", \"row\"=>1, \"rowname\"=>\"t\", \"button\"=>4, \"pushpull\"=>1, \"ppname\"=>\"push\", \"note\"=>\"A1\"}, 3=>{\"side\"=>1, \"sidename\"=>\"left\", \"row\"=>1, \"rowname\"=>\"t\", \"button\"=>3, \"pushpull\"=>1, \"ppname\"=>\"push\", \"note\"=>\"C#2\"}, 4=>{\"side\"=>1, \"sidename\"=>\"left\", \"row\"=>1, \"rowname\"=>\"t\", \"button\"=>2, \"pushpull\"=>1, \"ppname\"=>\"push\", \"note\"=>\"A2\"}, 5=>{\"side\"=>1, \"sidename\"=>\"left\", \"row\"=>1, \"rowname\"=>\"t\", \"button\"=>1, \"pushpull\"=>1, \"ppname\"=>\"push\", \"note\"=>\"G#2\"}, 6=>{\"side\"=>1, \"sidename\"=>\"left\", \"row\"=>2, \"rowname\"=>\"c\", \"button\"=>5, \"pushpull\"=>1, \"ppname\"=>\"push\", \"note\"=>\"C1\"}, 7=>{\"side\"=>1, \"sidename\"=>\"left\", \"row\"=>2, \"rowname\"=>\"c\", \"button\"=>4, \"pushpull\"=>1, \"ppname\"=>\"push\", \"note\"=>\"G1\"}, 8=>{\"side\"=>1, \"sidename\"=>\"left\", \"row\"=>2, \"rowname\"=>\"c\", \"button\"=>3, \"pushpull\"=>1, \"ppname\"=>\"push\", \"note\"=>\"C2\"}, 9=>{\"side\"=>1, \"sidename\"=>\"left\", \"row\"=>2, \"rowname\"=>\"c\", \"button\"=>2, \"pushpull\"=>1, \"ppname\"=>\"push\", \"note\"=>\"E2\"}, 10=>{\"side\"=>1, \"sidename\"=>\"left\", \"row\"=>2, \"rowname\"=>\"c\", \"button\"=>1, \"pushpull\"=>1, \"ppname\"=>\"push\", \"note\"=>\"G2\"}, 11=>{\"side\"=>1, \"sidename\"=>\"left\", \"row\"=>3, \"rowname\"=>\"g\", \"button\"=>5, \"pushpull\"=>1, \"ppname\"=>\"push\", \"note\"=>\"B1\"}, 12=>{\"side\"=>1, \"sidename\"=>\"left\", \"row\"=>3, \"rowname\"=>\"g\", \"button\"=>4, \"pushpull\"=>1, \"ppname\"=>\"push\", \"note\"=>\"D2\"}, 13=>{\"side\"=>1, \"sidename\"=>\"left\", \"row\"=>3, \"rowname\"=>\"g\", \"button\"=>3, \"pushpull\"=>1, \"ppname\"=>\"push\", \"note\"=>\"G2\"}, 14=>{\"side\"=>1, \"sidename\"=>\"left\", \"row\"=>3, \"rowname\"=>\"g\", \"button\"=>2, \"pushpull\"=>1, \"ppname\"=>\"push\", \"note\"=>\"B2\"}, 15=>{\"side\"=>1, \"sidename\"=>\"left\", \"row\"=>3, \"rowname\"=>\"g\", \"button\"=>1, \"pushpull\"=>1, \"ppname\"=>\"push\", \"note\"=>\"D3\"}, 16=>{\"side\"=>1, \"sidename\"=>\"left\", \"row\"=>1, \"rowname\"=>\"t\", \"button\"=>5, \"pushpull\"=>2, \"ppname\"=>\"pull\", \"note\"=>\"F1\"}, 17=>{\"side\"=>1, \"sidename\"=>\"left\", \"row\"=>1, \"rowname\"=>\"t\", \"button\"=>4, \"pushpull\"=>2, \"ppname\"=>\"pull\", \"note\"=>\"BB1\"}, 18=>{\"side\"=>1, \"sidename\"=>\"left\", \"row\"=>1, \"rowname\"=>\"t\", \"button\"=>3, \"pushpull\"=>2, \"ppname\"=>\"pull\", \"note\"=>\"D#2\"}, 19=>{\"side\"=>1, \"sidename\"=>\"left\", \"row\"=>1, \"rowname\"=>\"t\", \"button\"=>2, \"pushpull\"=>2, \"ppname\"=>\"pull\", \"note\"=>\"G2\"}, 20=>{\"side\"=>1, \"sidename\"=>\"left\", \"row\"=>1, \"rowname\"=>\"t\", \"button\"=>1, \"pushpull\"=>2, \"ppname\"=>\"pull\", \"note\"=>\"BB2\"}, 21=>{\"side\"=>1, \"sidename\"=>\"left\", \"row\"=>2, \"rowname\"=>\"c\", \"button\"=>5, \"pushpull\"=>2, \"ppname\"=>\"pull\", \"note\"=>\"G1\"}, 22=>{\"side\"=>1, \"sidename\"=>\"left\", \"row\"=>2, \"rowname\"=>\"c\", \"button\"=>4, \"pushpull\"=>2, \"ppname\"=>\"pull\", \"note\"=>\"B1\"}, 23=>{\"side\"=>1, \"sidename\"=>\"left\", \"row\"=>2, \"rowname\"=>\"c\", \"button\"=>3, \"pushpull\"=>2, \"ppname\"=>\"pull\", \"note\"=>\"D2\"}, 24=>{\"side\"=>1, \"sidename\"=>\"left\", \"row\"=>2, \"rowname\"=>\"c\", \"button\"=>2, \"pushpull\"=>2, \"ppname\"=>\"pull\", \"note\"=>\"F2\"}, 25=>{\"side\"=>1, \"sidename\"=>\"left\", \"row\"=>2, \"rowname\"=>\"c\", \"button\"=>1, \"pushpull\"=>2, \"ppname\"=>\"pull\", \"note\"=>\"A2\"}, 26=>{\"side\"=>1, \"sidename\"=>\"left\", \"row\"=>3, \"rowname\"=>\"g\", \"button\"=>5, \"pushpull\"=>2, \"ppname\"=>\"pull\", \"note\"=>\"A1\"}, 27=>{\"side\"=>1, \"sidename\"=>\"left\", \"row\"=>3, \"rowname\"=>\"g\", \"button\"=>4, \"pushpull\"=>2, \"ppname\"=>\"pull\", \"note\"=>\"F#2\"}, 28=>{\"side\"=>1, \"sidename\"=>\"left\", \"row\"=>3, \"rowname\"=>\"g\", \"button\"=>3, \"pushpull\"=>2, \"ppname\"=>\"pull\", \"note\"=>\"A2\"}, 29=>{\"side\"=>1, \"sidename\"=>\"left\", \"row\"=>3, \"rowname\"=>\"g\", \"button\"=>2, \"pushpull\"=>2, \"ppname\"=>\"pull\", \"note\"=>\"C3\"}, 30=>{\"side\"=>1, \"sidename\"=>\"left\", \"row\"=>3, \"rowname\"=>\"g\", \"button\"=>1, \"pushpull\"=>2, \"ppname\"=>\"pull\", \"note\"=>\"E3\"}, 31=>{\"side\"=>2, \"sidename\"=>\"right\", \"row\"=>1, \"rowname\"=>\"t\", \"button\"=>1, \"pushpull\"=>1, \"ppname\"=>\"push\", \"note\"=>\"C#3\"}, 32=>{\"side\"=>2, \"sidename\"=>\"right\", \"row\"=>1, \"rowname\"=>\"t\", \"button\"=>2, \"pushpull\"=>1, \"ppname\"=>\"push\", \"note\"=>\"C#3\"}, 33=>{\"side\"=>2, \"sidename\"=>\"right\", \"row\"=>1, \"rowname\"=>\"t\", \"button\"=>3, \"pushpull\"=>1, \"ppname\"=>\"push\", \"note\"=>\"G#3\"}, 34=>{\"side\"=>2, \"sidename\"=>\"right\", \"row\"=>1, \"rowname\"=>\"t\", \"button\"=>4, \"pushpull\"=>1, \"ppname\"=>\"push\", \"note\"=>\"C#4\"}, 35=>{\"side\"=>2, \"sidename\"=>\"right\", \"row\"=>1, \"rowname\"=>\"t\", \"button\"=>5, \"pushpull\"=>1, \"ppname\"=>\"push\", \"note\"=>\"A4\"}, 36=>{\"side\"=>2, \"sidename\"=>\"right\", \"row\"=>2, \"rowname\"=>\"c\", \"button\"=>1, \"pushpull\"=>1, \"ppname\"=>\"push\", \"note\"=>\"C3\"}, 37=>{\"side\"=>2, \"sidename\"=>\"right\", \"row\"=>2, \"rowname\"=>\"c\", \"button\"=>2, \"pushpull\"=>1, \"ppname\"=>\"push\", \"note\"=>\"E3\"}, 38=>{\"side\"=>2, \"sidename\"=>\"right\", \"row\"=>2, \"rowname\"=>\"c\", \"button\"=>3, \"pushpull\"=>1, \"ppname\"=>\"push\", \"note\"=>\"G3\"}, 39=>{\"side\"=>2, \"sidename\"=>\"right\", \"row\"=>2, \"rowname\"=>\"c\", \"button\"=>4, \"pushpull\"=>1, \"ppname\"=>\"push\", \"note\"=>\"C4\"}, 40=>{\"side\"=>2, \"sidename\"=>\"right\", \"row\"=>2, \"rowname\"=>\"c\", \"button\"=>5, \"pushpull\"=>1, \"ppname\"=>\"push\", \"note\"=>\"E4\"}, 41=>{\"side\"=>2, \"sidename\"=>\"right\", \"row\"=>3, \"rowname\"=>\"g\", \"button\"=>1, \"pushpull\"=>1, \"ppname\"=>\"push\", \"note\"=>\"G3\"}, 42=>{\"side\"=>2, \"sidename\"=>\"right\", \"row\"=>3, \"rowname\"=>\"g\", \"button\"=>2, \"pushpull\"=>1, \"ppname\"=>\"push\", \"note\"=>\"B3\"}, 43=>{\"side\"=>2, \"sidename\"=>\"right\", \"row\"=>3, \"rowname\"=>\"g\", \"button\"=>3, \"pushpull\"=>1, \"ppname\"=>\"push\", \"note\"=>\"D4\"}, 44=>{\"side\"=>2, \"sidename\"=>\"right\", \"row\"=>3, \"rowname\"=>\"g\", \"button\"=>4, \"pushpull\"=>1, \"ppname\"=>\"push\", \"note\"=>\"G4\"}, 45=>{\"side\"=>2, \"sidename\"=>\"right\", \"row\"=>3, \"rowname\"=>\"g\", \"button\"=>5, \"pushpull\"=>1, \"ppname\"=>\"push\", \"note\"=>\"D#4\"}, 46=>{\"side\"=>2, \"sidename\"=>\"right\", \"row\"=>1, \"rowname\"=>\"t\", \"button\"=>1, \"pushpull\"=>2, \"ppname\"=>\"pull\", \"note\"=>\"C#3\"}, 47=>{\"side\"=>2, \"sidename\"=>\"right\", \"row\"=>1, \"rowname\"=>\"t\", \"button\"=>2, \"pushpull\"=>2, \"ppname\"=>\"pull\", \"note\"=>\"D#3\"}, 48=>{\"side\"=>2, \"sidename\"=>\"right\", \"row\"=>1, \"rowname\"=>\"t\", \"button\"=>3, \"pushpull\"=>2, \"ppname\"=>\"pull\", \"note\"=>\"G3\"}, 49=>{\"side\"=>2, \"sidename\"=>\"right\", \"row\"=>1, \"rowname\"=>\"t\", \"button\"=>4, \"pushpull\"=>2, \"ppname\"=>\"pull\", \"note\"=>\"BB3\"}, 50=>{\"side\"=>2, \"sidename\"=>\"right\", \"row\"=>1, \"rowname\"=>\"t\", \"button\"=>5, \"pushpull\"=>2, \"ppname\"=>\"pull\", \"note\"=>\"D4\"}, 51=>{\"side\"=>2, \"sidename\"=>\"right\", \"row\"=>2, \"rowname\"=>\"c\", \"button\"=>1, \"pushpull\"=>2, \"ppname\"=>\"pull\", \"note\"=>\"B2\"}, 52=>{\"side\"=>2, \"sidename\"=>\"right\", \"row\"=>2, \"rowname\"=>\"c\", \"button\"=>2, \"pushpull\"=>2, \"ppname\"=>\"pull\", \"note\"=>\"D3\"}, 53=>{\"side\"=>2, \"sidename\"=>\"right\", \"row\"=>2, \"rowname\"=>\"c\", \"button\"=>3, \"pushpull\"=>2, \"ppname\"=>\"pull\", \"note\"=>\"F3\"}, 54=>{\"side\"=>2, \"sidename\"=>\"right\", \"row\"=>2, \"rowname\"=>\"c\", \"button\"=>4, \"pushpull\"=>2, \"ppname\"=>\"pull\", \"note\"=>\"A3\"}, 55=>{\"side\"=>2, \"sidename\"=>\"right\", \"row\"=>2, \"rowname\"=>\"c\", \"button\"=>5, \"pushpull\"=>2, \"ppname\"=>\"pull\", \"note\"=>\"B3\"}, 56=>{\"side\"=>2, \"sidename\"=>\"right\", \"row\"=>3, \"rowname\"=>\"g\", \"button\"=>1, \"pushpull\"=>2, \"ppname\"=>\"pull\", \"note\"=>\"F#3\"}, 57=>{\"side\"=>2, \"sidename\"=>\"right\", \"row\"=>3, \"rowname\"=>\"g\", \"button\"=>2, \"pushpull\"=>2, \"ppname\"=>\"pull\", \"note\"=>\"A3\"}, 58=>{\"side\"=>2, \"sidename\"=>\"right\", \"row\"=>3, \"rowname\"=>\"g\", \"button\"=>3, \"pushpull\"=>2, \"ppname\"=>\"pull\", \"note\"=>\"C4\"}, 59=>{\"side\"=>2, \"sidename\"=>\"right\", \"row\"=>3, \"rowname\"=>\"g\", \"button\"=>4, \"pushpull\"=>2, \"ppname\"=>\"pull\", \"note\"=>\"E4\"}, 60=>{\"side\"=>2, \"sidename\"=>\"right\", \"row\"=>3, \"rowname\"=>\"g\", \"button\"=>5, \"pushpull\"=>2, \"ppname\"=>\"pull\", \"note\"=>\"F#4\"}}"
      ]
     },
     "execution_count": 196,
     "metadata": {},
     "output_type": "execute_result"
    }
   ],
   "source": [
    "$tinamap= Hash.new\n",
    "\n",
    "$tinakeys.each {|h,k|\n",
    "  $tinamap[h]=  k[\"sidename\"][0].upcase+ k[\"rowname\"][0].upcase+ k[\"button\"].to_s+\"-\"+ k[\"ppname\"].upcase+\"=\"+ k[\"note\"].upcase\n",
    "    \n",
    "  #puts $tinamap[h]\n",
    "  }\n",
    "\n",
    "\n"
   ]
  },
  {
   "cell_type": "markdown",
   "metadata": {},
   "source": [
    "# Now calculate distance map from button to button\n",
    "\n",
    "## Distance from button to button: \n",
    "### the lower the value in distance, the easier the play from button -> button\n",
    "\n",
    "### We calculate the score by comparing the two buttons.\n",
    "* whether they are on the same side of the tina --> sameside(f,t)\n",
    "* DELETED:: --whether they are on the same row --> samerow(f,t) ::DELETED\n",
    "* whether you switch from Push to Pull --> ppchng(f,t)\n",
    "\n",
    "### or by the attributes of the next button: \n",
    "* which row (top row, c row, g row) --> prefrow(f,t)\n",
    "* preferred finger is 1, or 2. This will play on the inner buttons if possible --> preffing(f,t)\n",
    "\n",
    "### hopping\n",
    "* samefinger, same side, no switch from push to pull => hopping. Severe penalty --> hopp(f,t)\n",
    "\n"
   ]
  },
  {
   "cell_type": "code",
   "execution_count": 197,
   "metadata": {
    "collapsed": false
   },
   "outputs": [
    {
     "data": {
      "text/plain": [
       ":ppchng"
      ]
     },
     "execution_count": 197,
     "metadata": {},
     "output_type": "execute_result"
    }
   ],
   "source": [
    "def sameside(f,t)\n",
    "  score = 0\n",
    "  if $tinakeys[f][\"side\"]==$tinakeys[t][\"side\"] \n",
    "    score = -1\n",
    "  end\n",
    "  result = score\n",
    "end\n",
    "\n",
    "def samerow(f,t)   # no in use anymore\n",
    "  score = 0\n",
    "  if $tinakeys[f][\"row\"]==$tinakeys[t][\"row\"] \n",
    "    score = 0\n",
    "  end\n",
    "  result = score\n",
    "end\n",
    "\n",
    "def hopp(f,t)\n",
    "  score = 0\n",
    "  \n",
    "  # hopping defines as:\n",
    "  # same finger has to jump from one button to another\n",
    "  if (($tinakeys[f][\"button\"] == $tinakeys[t][\"button\"]) && \n",
    "      ($tinakeys[f][\"side\"] == $tinakeys[t][\"side\"])   )\n",
    "    score = 100\n",
    "  end\n",
    "    \n",
    "  #but... just same button push-pull, that's good, that's no hopping!\n",
    "  if (($tinakeys[f][\"row\"]     == $tinakeys[t][\"row\"]) && \n",
    "      ($tinakeys[f][\"side\"]    == $tinakeys[t][\"side\"]) &&\n",
    "      ($tinakeys[f][\"button\"]  == $tinakeys[t][\"button\"]) &&    \n",
    "      ($tinakeys[f][\"pushpull\"]!= $tinakeys[t][\"pushpull\"]) )           \n",
    "      \n",
    "     score = -12  #-10\n",
    "  end\n",
    "  \n",
    "  result = score\n",
    "end\n",
    "\n",
    "def prefrow(f,t)  \n",
    "  # score = 15   # was +7, later +11. Penalty for the non c/g row\n",
    "  if [2,3].include? $tinakeys[t][\"row\"]  # prefer c or g row\n",
    "    score = 0\n",
    "  else\n",
    "    score = 15\n",
    "  end\n",
    "  result = score\n",
    "end\n",
    "\n",
    "def prefbuttt(t)\n",
    "  score = 0\n",
    "  if ($tinakeys[t][\"button\"]==1)  # prefer button one\n",
    "    score = -7   #-4\n",
    "  elsif\n",
    "    ($tinakeys[t][\"button\"]==2)  # or prefer button two\n",
    "    score = -2\n",
    "  elsif\n",
    "    ($tinakeys[t][\"button\"]==5)  # no button 5 please\n",
    "    score = 5\n",
    "  end  \n",
    "  \n",
    "  result = score\n",
    "end\n",
    "\n",
    "def ppchng(f,t)\n",
    "  score = 1   #2\n",
    "  if $tinakeys[f][\"pushpull\"]==$tinakeys[t][\"pushpull\"] #push after push = good\n",
    "    score = 0\n",
    "  end\n",
    "  result = score\n",
    "end\n",
    "\n"
   ]
  },
  {
   "cell_type": "code",
   "execution_count": 198,
   "metadata": {
    "collapsed": false
   },
   "outputs": [
    {
     "data": {
      "text/plain": [
       "1..60"
      ]
     },
     "execution_count": 198,
     "metadata": {},
     "output_type": "execute_result"
    }
   ],
   "source": [
    "# create a distance matrix, init with zeros ######################################\n",
    "$distmat = Array.new(61){Array.new(61,0)}\n",
    "\n",
    "#now loop over all 60 buttons\n",
    "for f in 1..60 \n",
    "  for t in 1..60\n",
    "\n",
    "      if (f == t)    # same note? perfect, same button!! \n",
    "        score = -25  \n",
    "      elsif (hopp(f,t) == 100)  # hop? no!\n",
    "        score = 100\n",
    "      else\n",
    "        score = sameside(f,t)+\n",
    "                #samerow(f,t)+\n",
    "                hopp(f,t)    +\n",
    "                prefrow(f,t) +\n",
    "                prefbuttt(t) +\n",
    "                ppchng(f,t) \n",
    "      end\n",
    "      $distmat[f][t] = score\n",
    "    \n",
    "  end\n",
    "end\n"
   ]
  },
  {
   "cell_type": "markdown",
   "metadata": {},
   "source": [
    "# now the note -> buttons list\n",
    "## for example: note B3 is on two positions: 42 and 55\n",
    "## Make a list of this: note \"B3\" is at [42,55]. "
   ]
  },
  {
   "cell_type": "code",
   "execution_count": 199,
   "metadata": {
    "collapsed": false
   },
   "outputs": [
    {
     "data": {
      "text/plain": [
       "{\"A1\"=>[2, 26], \"A2\"=>[4, 25, 28], \"A3\"=>[54, 57], \"A4\"=>[35], \"B1\"=>[11, 22], \"B2\"=>[14, 51], \"B3\"=>[42, 55], \"BB1\"=>[17], \"BB2\"=>[20], \"BB3\"=>[49], \"C#2\"=>[3], \"C#3\"=>[31, 32, 46], \"C#4\"=>[34], \"C1\"=>[6], \"C2\"=>[8], \"C3\"=>[29, 36], \"C4\"=>[39, 58], \"D#2\"=>[18], \"D#3\"=>[47], \"D#4\"=>[45], \"D2\"=>[12, 23], \"D3\"=>[15, 52], \"D4\"=>[43, 50], \"E1\"=>[1], \"E2\"=>[9], \"E3\"=>[30, 37], \"E4\"=>[40, 59], \"F#2\"=>[27], \"F#3\"=>[56], \"F#4\"=>[60], \"F1\"=>[16], \"F2\"=>[24], \"F3\"=>[53], \"G#2\"=>[5], \"G#3\"=>[33], \"G1\"=>[7, 21], \"G2\"=>[10, 13, 19], \"G3\"=>[38, 41, 48], \"G4\"=>[44]}"
      ]
     },
     "execution_count": 199,
     "metadata": {},
     "output_type": "execute_result"
    }
   ],
   "source": [
    "nlist=[]\n",
    "for i in 1..60 do\n",
    "  nlist << $tinakeys[i][\"note\"]\n",
    "end\n",
    "nlist= nlist.uniq.sort\n",
    "\n",
    "\n",
    "#init to make it available outside the loop\n",
    "$note_keys = Hash.new( [1] ) \n",
    "\n",
    "nlist.each { |nownote|\n",
    "  $note_keys[nownote]=[]\n",
    "  }\n",
    "\n",
    "for i in 1..60 do\n",
    "  $note_keys[$tinakeys[i][\"note\"]] << i\n",
    "end\n",
    "  \n",
    "$note_keys"
   ]
  },
  {
   "cell_type": "markdown",
   "metadata": {},
   "source": [
    "# now it's time to do a serious amount of work\n",
    "\n",
    "### calculate score of all combinations \n",
    "### if the list of possible routes is getting too long, clean it up "
   ]
  },
  {
   "cell_type": "code",
   "execution_count": 200,
   "metadata": {
    "collapsed": false
   },
   "outputs": [
    {
     "name": "stdout",
     "output_type": "stream",
     "text": [
      "There are 22358488275953674912530432 combinations for this tune.\n",
      "Cleaned up! Now there are 8625959983006819024896 combinations.\n"
     ]
    }
   ],
   "source": [
    "# a = for example [[32, 54, 57], [42, 55], [39, 58], [56]]\n",
    "# a is in this case a four note-tune \n",
    "a=[]\n",
    "tune.each { |note|\n",
    "  a << $note_keys[note]\n",
    "}\n",
    " \n",
    "pr=1\n",
    "a.cycle(1) { |ar| pr = pr*ar.length\n",
    "  }\n",
    "puts \"There are \"+pr.to_s+\" combinations for this tune.\"\n",
    "\n",
    "if $dupchek  \n",
    "  # duplicate check: play same note twice?  Skip one! \n",
    "  a_new=[]\n",
    "  for i in 0..a.length-2\n",
    "    a_new << a[i] unless a[i] == a[i+1]\n",
    "  end\n",
    "\n",
    "  a = a_new\n",
    "  pr = 1\n",
    "  a.cycle(1) { |ar| pr = pr*ar.length\n",
    "    }\n",
    "  puts \"Cleaned up! Now there are \"+pr.to_s+\" combinations.\"\n",
    "end\n"
   ]
  },
  {
   "cell_type": "code",
   "execution_count": 201,
   "metadata": {
    "collapsed": false
   },
   "outputs": [
    {
     "data": {
      "text/plain": [
       "[[4, 25, 28], [10, 13, 19], [27], [4, 25, 28], [27], [4, 25, 28], [14, 51], [31, 32, 46], [14, 51], [4, 25, 28], [10, 13, 19], [27], [4, 25, 28], [15, 52], [30, 37], [56], [30, 37], [56], [38, 41, 48], [56], [38, 41, 48], [56], [30, 37], [56], [30, 37], [15, 52], [14, 51], [4, 25, 28], [14, 51], [4, 25, 28], [27], [12, 23], [9], [4, 25, 28], [10, 13, 19], [4, 25, 28], [14, 51], [4, 25, 28], [30, 37], [56], [30, 37], [15, 52], [30, 37], [56], [30, 37], [56], [30, 37], [56], [30, 37], [56], [38, 41, 48], [54, 57], [4, 25, 28], [14, 51], [4, 25, 28], [14, 51], [4, 25, 28], [27], [4, 25, 28], [14, 51], [4, 25, 28], [14, 51], [15, 52], [30, 37], [56], [30, 37], [56], [30, 37], [56], [30, 37], [15, 52], [56], [54, 57], [42, 55], [54, 57], [56], [54, 57], [56], [30, 37], [15, 52], [30, 37], [15, 52]]"
      ]
     },
     "execution_count": 201,
     "metadata": {},
     "output_type": "execute_result"
    }
   ],
   "source": [
    "a"
   ]
  },
  {
   "cell_type": "markdown",
   "metadata": {
    "collapsed": true
   },
   "source": [
    "\n"
   ]
  },
  {
   "cell_type": "code",
   "execution_count": 202,
   "metadata": {
    "collapsed": false
   },
   "outputs": [
    {
     "data": {
      "text/plain": [
       ":calcscore"
      ]
     },
     "execution_count": 202,
     "metadata": {},
     "output_type": "execute_result"
    }
   ],
   "source": [
    "  # This Function calculates the score of route (array of button numbers) \n",
    "  def calcscore(arr)   \n",
    "        score = startbutton(arr[0].to_i)   # the startbutton\n",
    "        for i in 0..(arr.length-2)\n",
    "          # fro (i)   is the note you come from,\n",
    "          # too (i+1) is the note to go to\n",
    "          score = score+$distmat[arr[i].to_i][arr[i+1].to_i]\n",
    "        end\n",
    "        result = score.to_i\n",
    "    end #~ def    "
   ]
  },
  {
   "cell_type": "code",
   "execution_count": 203,
   "metadata": {
    "collapsed": false,
    "scrolled": false
   },
   "outputs": [
    {
     "name": "stdout",
     "output_type": "stream",
     "text": [
      "Initiated! Now 81 notes left to do.\n",
      "Now looking for 10-13-19\n",
      "\n",
      "Continue with 9 routes at 80 notes to go.\n",
      "Now looking for 27\n",
      "\n",
      "Continue with 9 routes at 79 notes to go.\n",
      "Now looking for 4-25-28\n",
      "\n",
      "Continue with 27 routes at 78 notes to go.\n",
      "Now looking for 27\n",
      "\n",
      "Continue with 27 routes at 77 notes to go.\n",
      "Now looking for 4-25-28\n",
      "\n",
      "Continue with 81 routes at 76 notes to go.\n",
      "Now looking for 14-51\n",
      "\n",
      "Continue with 162 routes at 75 notes to go.\n",
      "Now looking for 31-32-46\n",
      "\n",
      "Continue with 486 routes at 74 notes to go.\n",
      "Now looking for 14-51\n",
      "\n",
      "Continue with 972 routes at 73 notes to go.\n",
      "Now looking for 4-25-28\n",
      "\n",
      "Continue with 2916 routes at 72 notes to go.\n",
      "Now looking for 10-13-19\n",
      "\n",
      "Continue with 8748 routes at 71 notes to go.\n",
      " - Score range: -73-256, 50% at 93\n",
      " - Array shrunk from 8748 to 4436 values.\n",
      " - Score range: -73-93, 50% at 9\n",
      " - Array shrunk from 4436 to 2220 values.\n",
      "Now looking for 27\n",
      "\n",
      "Continue with 2220 routes at 70 notes to go.\n",
      "Now looking for 4-25-28\n",
      "\n",
      "Continue with 6660 routes at 69 notes to go.\n",
      " - Score range: -81-22, 50% at -13\n",
      " - Array shrunk from 6660 to 3480 values.\n",
      "Now looking for 15-52\n",
      "\n",
      "Continue with 6960 routes at 68 notes to go.\n",
      " - Score range: -83-87, 50% at -25\n",
      " - Array shrunk from 6960 to 3556 values.\n",
      "Now looking for 30-37\n",
      "\n",
      "Continue with 7112 routes at 67 notes to go.\n",
      " - Score range: -100--27, 50% at -46\n",
      " - Array shrunk from 7112 to 3781 values.\n",
      "Now looking for 56\n",
      "\n",
      "Continue with 3781 routes at 66 notes to go.\n",
      "Now looking for 30-37\n",
      "\n",
      "Continue with 7562 routes at 65 notes to go.\n",
      " - Score range: -114--55, 50% at -66\n",
      " - Array shrunk from 7562 to 3949 values.\n",
      "Now looking for 56\n",
      "\n",
      "Continue with 3949 routes at 64 notes to go.\n",
      "Now looking for 38-41-48\n",
      "\n",
      "Continue with 11847 routes at 63 notes to go.\n",
      " - Score range: -140--59, 50% at -81\n",
      " - Array shrunk from 11847 to 6016 values.\n",
      " - Score range: -140--81, 50% at -96\n",
      " - Array shrunk from 6016 to 3066 values.\n",
      "Now looking for 56\n",
      "\n",
      "Continue with 3066 routes at 62 notes to go.\n",
      "Now looking for 38-41-48\n",
      "\n",
      "Continue with 9198 routes at 61 notes to go.\n",
      " - Score range: -178--89, 50% at -122\n",
      " - Array shrunk from 9198 to 4611 values.\n",
      " - Score range: -178--122, 50% at -137\n",
      " - Array shrunk from 4611 to 2310 values.\n",
      "Now looking for 56\n",
      "\n",
      "Continue with 2310 routes at 60 notes to go.\n",
      "Now looking for 30-37\n",
      "\n",
      "Continue with 4620 routes at 59 notes to go.\n",
      " - Score range: -204--146, 50% at -165\n",
      " - Array shrunk from 4620 to 2691 values.\n",
      "Now looking for 56\n",
      "\n",
      "Continue with 2691 routes at 58 notes to go.\n",
      "Now looking for 30-37\n",
      "\n",
      "Continue with 5382 routes at 57 notes to go.\n",
      " - Score range: -218--174, 50% at -182\n",
      " - Array shrunk from 5382 to 2810 values.\n",
      "Now looking for 15-52\n",
      "\n",
      "Continue with 5620 routes at 56 notes to go.\n",
      " - Score range: -237--184, 50% at -200\n",
      " - Array shrunk from 5620 to 2837 values.\n",
      "Now looking for 14-51\n",
      "\n",
      "Continue with 5674 routes at 55 notes to go.\n",
      " - Score range: -243--201, 50% at -210\n",
      " - Array shrunk from 5674 to 2866 values.\n",
      "Now looking for 4-25-28\n",
      "\n",
      "Continue with 8598 routes at 54 notes to go.\n",
      " - Score range: -250--110, 50% at -214\n",
      " - Array shrunk from 8598 to 4551 values.\n",
      " - Score range: -250--214, 50% at -220\n",
      " - Array shrunk from 4551 to 2603 values.\n",
      "Now looking for 14-51\n",
      "\n",
      "Continue with 5206 routes at 53 notes to go.\n",
      " - Score range: -257--121, 50% at -228\n",
      " - Array shrunk from 5206 to 2987 values.\n",
      "Now looking for 4-25-28\n",
      "\n",
      "Continue with 8961 routes at 52 notes to go.\n",
      " - Score range: -264--128, 50% at -232\n",
      " - Array shrunk from 8961 to 4629 values.\n",
      " - Score range: -264--232, 50% at -237\n",
      " - Array shrunk from 4629 to 2873 values.\n",
      "Now looking for 27\n",
      "\n",
      "Continue with 2873 routes at 51 notes to go.\n",
      "Now looking for 12-23\n",
      "\n",
      "Continue with 5746 routes at 50 notes to go.\n",
      " - Score range: -277--238, 50% at -250\n",
      " - Array shrunk from 5746 to 3119 values.\n",
      "Now looking for 9\n",
      "\n",
      "Continue with 3119 routes at 49 notes to go.\n",
      "Now looking for 4-25-28\n",
      "\n",
      "Continue with 9357 routes at 48 notes to go.\n",
      " - Score range: -287--152, 50% at -256\n",
      " - Array shrunk from 9357 to 4697 values.\n",
      " - Score range: -287--256, 50% at -262\n",
      " - Array shrunk from 4697 to 2556 values.\n",
      "Now looking for 10-13-19\n",
      "\n",
      "Continue with 7668 routes at 47 notes to go.\n",
      " - Score range: -306--250, 50% at -266\n",
      " - Array shrunk from 7668 to 3839 values.\n",
      "Now looking for 4-25-28\n",
      "\n",
      "Continue with 11517 routes at 46 notes to go.\n",
      " - Score range: -325--254, 50% at -281\n",
      " - Array shrunk from 11517 to 6279 values.\n",
      " - Score range: -325--281, 50% at -289\n",
      " - Array shrunk from 6279 to 3169 values.\n",
      "Now looking for 14-51\n",
      "\n",
      "Continue with 6338 routes at 45 notes to go.\n",
      " - Score range: -332--189, 50% at -305\n",
      " - Array shrunk from 6338 to 3314 values.\n",
      "Now looking for 4-25-28\n",
      "\n",
      "Continue with 9942 routes at 44 notes to go.\n",
      " - Score range: -339--205, 50% at -309\n",
      " - Array shrunk from 9942 to 5122 values.\n",
      " - Score range: -339--309, 50% at -315\n",
      " - Array shrunk from 5122 to 2563 values.\n",
      "Now looking for 30-37\n",
      "\n",
      "Continue with 5126 routes at 43 notes to go.\n",
      " - Score range: -340--215, 50% at -316\n",
      " - Array shrunk from 5126 to 3009 values.\n",
      "Now looking for 56\n",
      "\n",
      "Continue with 3009 routes at 42 notes to go.\n",
      "Now looking for 30-37\n",
      "\n",
      "Continue with 6018 routes at 41 notes to go.\n",
      " - Score range: -354--325, 50% at -332\n",
      " - Array shrunk from 6018 to 3172 values.\n",
      "Now looking for 15-52\n",
      "\n",
      "Continue with 6344 routes at 40 notes to go.\n",
      " - Score range: -373--334, 50% at -346\n",
      " - Array shrunk from 6344 to 3426 values.\n",
      "Now looking for 30-37\n",
      "\n",
      "Continue with 6852 routes at 39 notes to go.\n",
      " - Score range: -392--348, 50% at -361\n",
      " - Array shrunk from 6852 to 3482 values.\n",
      "Now looking for 56\n",
      "\n",
      "Continue with 3482 routes at 38 notes to go.\n",
      "Now looking for 30-37\n",
      "\n",
      "Continue with 6964 routes at 37 notes to go.\n",
      " - Score range: -406--370, 50% at -382\n",
      " - Array shrunk from 6964 to 3574 values.\n",
      "Now looking for 56\n",
      "\n",
      "Continue with 3574 routes at 36 notes to go.\n",
      "Now looking for 30-37\n",
      "\n",
      "Continue with 7148 routes at 35 notes to go.\n",
      " - Score range: -420--391, 50% at -398\n",
      " - Array shrunk from 7148 to 4428 values.\n",
      " - Score range: -420--398, 50% at -400\n",
      " - Array shrunk from 4428 to 2952 values.\n",
      "Now looking for 56\n",
      "\n",
      "Continue with 2952 routes at 34 notes to go.\n",
      "Now looking for 30-37\n",
      "\n",
      "Continue with 5904 routes at 33 notes to go.\n",
      " - Score range: -434--409, 50% at -414\n",
      " - Array shrunk from 5904 to 3826 values.\n",
      "Now looking for 56\n",
      "\n",
      "Continue with 3826 routes at 32 notes to go.\n",
      "Now looking for 38-41-48\n",
      "\n",
      "Continue with 11478 routes at 31 notes to go.\n",
      " - Score range: -460--407, 50% at -423\n",
      " - Array shrunk from 11478 to 6106 values.\n",
      " - Score range: -460--423, 50% at -440\n",
      " - Array shrunk from 6106 to 3828 values.\n",
      "Now looking for 54-57\n",
      "\n",
      "Continue with 7656 routes at 30 notes to go.\n",
      " - Score range: -462--440, 50% at -443\n",
      " - Array shrunk from 7656 to 4181 values.\n",
      " - Score range: -462--443, 50% at -445\n",
      " - Array shrunk from 4181 to 2753 values.\n",
      "Now looking for 4-25-28\n",
      "\n",
      "Continue with 8259 routes at 29 notes to go.\n",
      " - Score range: -469--431, 50% at -447\n",
      " - Array shrunk from 8259 to 4330 values.\n",
      " - Score range: -469--447, 50% at -452\n",
      " - Array shrunk from 4330 to 3027 values.\n",
      "Now looking for 14-51\n",
      "\n",
      "Continue with 6054 routes at 28 notes to go.\n",
      " - Score range: -476--454, 50% at -459\n",
      " - Array shrunk from 6054 to 3575 values.\n",
      "Now looking for 4-25-28\n",
      "\n",
      "Continue with 10725 routes at 27 notes to go.\n",
      " - Score range: -483--359, 50% at -461\n",
      " - Array shrunk from 10725 to 5543 values.\n",
      " - Score range: -483--461, 50% at -466\n",
      " - Array shrunk from 5543 to 3889 values.\n",
      "Now looking for 14-51\n",
      "\n",
      "Continue with 7778 routes at 26 notes to go.\n",
      " - Score range: -490--468, 50% at -473\n",
      " - Array shrunk from 7778 to 4538 values.\n",
      " - Score range: -490--473, 50% at -475\n",
      " - Array shrunk from 4538 to 2407 values.\n",
      "Now looking for 4-25-28\n",
      "\n",
      "Continue with 7221 routes at 25 notes to go.\n",
      " - Score range: -497--375, 50% at -476\n",
      " - Array shrunk from 7221 to 3687 values.\n",
      "Now looking for 27\n",
      "\n",
      "Continue with 3687 routes at 24 notes to go.\n",
      "Now looking for 4-25-28\n",
      "\n",
      "Continue with 11061 routes at 23 notes to go.\n",
      " - Score range: -506--463, 50% at -484\n",
      " - Array shrunk from 11061 to 6225 values.\n",
      " - Score range: -506--484, 50% at -489\n",
      " - Array shrunk from 6225 to 3127 values.\n",
      "Now looking for 14-51\n",
      "\n",
      "Continue with 6254 routes at 22 notes to go.\n",
      " - Score range: -513--491, 50% at -496\n",
      " - Array shrunk from 6254 to 3921 values.\n",
      "Now looking for 4-25-28\n",
      "\n",
      "Continue with 11763 routes at 21 notes to go.\n",
      " - Score range: -520--396, 50% at -498\n",
      " - Array shrunk from 11763 to 6962 values.\n",
      " - Score range: -520--498, 50% at -503\n",
      " - Array shrunk from 6962 to 4329 values.\n",
      " - Score range: -520--503, 50% at -505\n",
      " - Array shrunk from 4329 to 3180 values.\n",
      "Now looking for 14-51\n",
      "\n",
      "Continue with 6360 routes at 20 notes to go.\n",
      " - Score range: -527--507, 50% at -512\n",
      " - Array shrunk from 6360 to 3596 values.\n",
      "Now looking for 15-52\n",
      "\n",
      "Continue with 7192 routes at 19 notes to go.\n",
      " - Score range: -533--513, 50% at -518\n",
      " - Array shrunk from 7192 to 4547 values.\n",
      " - Score range: -533--518, 50% at -519\n",
      " - Array shrunk from 4547 to 2539 values.\n",
      "Now looking for 30-37\n",
      "\n",
      "Continue with 5078 routes at 18 notes to go.\n",
      " - Score range: -552--521, 50% at -533\n",
      " - Array shrunk from 5078 to 2551 values.\n",
      "Now looking for 56\n",
      "\n",
      "Continue with 2551 routes at 17 notes to go.\n",
      "Now looking for 30-37\n",
      "\n",
      "Continue with 5102 routes at 16 notes to go.\n",
      " - Score range: -566--542, 50% at -551\n",
      " - Array shrunk from 5102 to 2685 values.\n",
      "Now looking for 56\n",
      "\n",
      "Continue with 2685 routes at 15 notes to go.\n",
      "Now looking for 30-37\n",
      "\n",
      "Continue with 5370 routes at 14 notes to go.\n",
      " - Score range: -580--560, 50% at -565\n",
      " - Array shrunk from 5370 to 3234 values.\n",
      "Now looking for 56\n",
      "\n",
      "Continue with 3234 routes at 13 notes to go.\n",
      "Now looking for 30-37\n",
      "\n",
      "Continue with 6468 routes at 12 notes to go.\n",
      " - Score range: -594--574, 50% at -579\n",
      " - Array shrunk from 6468 to 3827 values.\n",
      "Now looking for 15-52\n",
      "\n",
      "Continue with 7654 routes at 11 notes to go.\n",
      " - Score range: -613--581, 50% at -593\n",
      " - Array shrunk from 7654 to 3847 values.\n",
      "Now looking for 56\n",
      "\n",
      "Continue with 3847 routes at 10 notes to go.\n",
      "Now looking for 54-57\n",
      "\n",
      "Continue with 7694 routes at 9 notes to go.\n",
      " - Score range: -622--600, 50% at -608\n",
      " - Array shrunk from 7694 to 3890 values.\n",
      "Now looking for 42-55\n",
      "\n",
      "Continue with 7780 routes at 8 notes to go.\n",
      " - Score range: -636--604, 50% at -610\n",
      " - Array shrunk from 7780 to 4147 values.\n",
      " - Score range: -636--610, 50% at -623\n",
      " - Array shrunk from 4147 to 2174 values.\n",
      "Now looking for 54-57\n",
      "\n",
      "Continue with 4348 routes at 7 notes to go.\n",
      " - Score range: -650--623, 50% at -636\n",
      " - Array shrunk from 4348 to 2176 values.\n",
      "Now looking for 56\n",
      "\n",
      "Continue with 2176 routes at 6 notes to go.\n",
      "Now looking for 54-57\n",
      "\n",
      "Continue with 4352 routes at 5 notes to go.\n",
      " - Score range: -661--645, 50% at -648\n",
      " - Array shrunk from 4352 to 2877 values.\n",
      "Now looking for 56\n",
      "\n",
      "Continue with 2877 routes at 4 notes to go.\n",
      "Now looking for 30-37\n",
      "\n",
      "Continue with 5754 routes at 3 notes to go.\n",
      " - Score range: -676--658, 50% at -663\n",
      " - Array shrunk from 5754 to 3134 values.\n",
      "Now looking for 15-52\n",
      "\n",
      "Continue with 6268 routes at 2 notes to go.\n",
      " - Score range: -695--665, 50% at -677\n",
      " - Array shrunk from 6268 to 3138 values.\n",
      "Now looking for 30-37\n",
      "\n",
      "Continue with 6276 routes at 1 notes to go.\n",
      " - Score range: -714--680, 50% at -691\n",
      " - Array shrunk from 6276 to 3202 values.\n",
      "Now looking for 15-52\n",
      "\n",
      "Continue with 6404 routes at 0 notes to go.\n",
      "2018-12-31 15:20:41 +0100\n",
      "2018-12-31 15:20:54 +0100\n"
     ]
    }
   ],
   "source": [
    "    # the first note of the tune has its own score\n",
    "    def startbutton(f)\n",
    "      score = 0\n",
    "      if ($tinakeys[f][\"button\"] == 1)  # prefer button one\n",
    "        score = -5\n",
    "      elsif\n",
    "         ($tinakeys[f][\"button\"] == 2)  # prefer button two as well\n",
    "         score = -4\n",
    "      elsif\n",
    "         ($tinakeys[f][\"button\"] == 4)  # no button 4 please\n",
    "         score = 3\n",
    "      elsif\n",
    "         ($tinakeys[f][\"button\"] == 5)  # no button 5 please\n",
    "         score = 5\n",
    "      end  \n",
    "\n",
    "      if [2,3].include? $tinakeys[f][\"row\"]   # prefer c or g row\n",
    "        score = score-5\n",
    "      end\n",
    "      result = score\n",
    "    end\n",
    "\n",
    "    #######################################################\n",
    "    # VARIABLES with influence on solving the puzzle\n",
    "    #  \n",
    "    # if this script doesn't find a proper solution, \n",
    "    # raise this value to 120. Default is 30.\n",
    "    uppervalscore = 120\n",
    "    #\n",
    "    # if there's no solution, larger the sample\n",
    "    # default 2.0\n",
    "    $divv = 2.0\n",
    "    #######################################################\n",
    "\n",
    "\n",
    "# first note in tune needs initialization:\n",
    "nowatlength = 1\n",
    "verz = []\n",
    "\n",
    "# we start here!\n",
    "b = a.shift  # this gets most left value of array in b, leave the rest in a\n",
    "b.each { |e|\n",
    "  verz << [e]\n",
    "}\n",
    "# Now verz has 1, 2 of 3 buttons where the first note of the tune is.\n",
    "\n",
    "puts \"Initiated! Now \"+a.length.to_s+\" notes left to do.\"\n",
    "starttime = Time.now\n",
    "\n",
    "#~ now loop the array by shifting it until zero length\n",
    "while a.any? do\n",
    "  \n",
    "  \n",
    "  #test\n",
    "  divv = $divv\n",
    "  #/test\n",
    "  \n",
    "  b = a.shift  \n",
    "  \n",
    "  puts \"Now looking for \"+b.join(\"-\")+\"\\n\"\n",
    "  \n",
    "  verz2 = verz.dup\n",
    "\n",
    "  verz2.each_index { |v|    \n",
    "    b.cycle(1) { |be|   \n",
    "        \n",
    "        #~ do not add notes on a high distance (uppervalscore)\n",
    "        if $distmat[verz2[v].last][be] < uppervalscore\n",
    "          verz << [verz2[v],be].flatten(1)  \n",
    "        else \n",
    "          verz.delete(verz2[v])\n",
    "        end\n",
    "      }\n",
    "  } #verz2\n",
    "    \n",
    "  #~  now remove the shorter arrays\n",
    "  #~  todo: adding might be faster than deleting <- it's not. tested 2-12-2018\n",
    "  nowatlength = nowatlength.next\n",
    "  verz.delete_if { |v| v.flatten(1).length<nowatlength }\n",
    "  \n",
    "  puts \"Continue with \"+verz.length.to_s+\" routes at \"+a.length.to_s+\" notes to go.\"\n",
    "  \n",
    "  if (verz.length==0)\n",
    "    raise(\"No routes found. Raise uppervalscore to higher value (default=30, suggested 120).\")\n",
    "  end\n",
    "\n",
    "  #  \n",
    "  # cleanup the array by deleting the worst routes\n",
    "  #\n",
    "  if $cleanup && a.length>0\n",
    "    \n",
    "    verbose = true #### see on the screen what's going on #############\n",
    "  \n",
    "    while (verz.length > $Maxroutes)     \n",
    "      # lookup the scores, delete all scores that are below '20%' value\n",
    "      \n",
    "      prevlength= verz.length.to_s\n",
    "      \n",
    "      #calculate scores\n",
    "      tempscore=Array.new()\n",
    "      scores=[]\n",
    "\n",
    "      verz.each_index { |ec|\n",
    "        e=verz[ec]\n",
    "        \n",
    "        sum=calcscore(e)\n",
    "        \n",
    "        tempscore[ec] = sum\n",
    "        scores << sum\n",
    "        \n",
    "      } #verz\n",
    "      \n",
    "\n",
    "      scores.sort!      \n",
    "      # puts(\"Got \",scores.length, \" scores.\") if verbose \n",
    "      \n",
    "      val20 = scores[((scores.length)/divv).round.to_i]  # these are the sorted scores\n",
    "      min = scores.min\n",
    "      max = scores.max\n",
    "      puts \" - Score range: \"+min.to_s+\"-\"+max.to_s+\", \"+(100/divv).to_i.to_s+\"% at \"+val20.to_s if verbose \n",
    "      \n",
    "      nwverz = []\n",
    "      verz.each_index { |ec|\n",
    "        if calcscore(verz[ec]) <= val20\n",
    "          e = verz[ec]\n",
    "          nwverz << e\n",
    "        end\n",
    "        }\n",
    "      \n",
    "      \n",
    "      verz = nwverz.dup      ##########TODO\n",
    "      \n",
    "      #~ delete if score < 20% value\n",
    "      #~ \n",
    "      puts \" - Array shrunk from \"+prevlength+\" to \"+verz.length.to_s+\" values.\" if verbose\n",
    "      \n",
    "      if prevlength==verz.length.to_s\n",
    "        puts(\" - No results, adjusting parameter to \"+divv.to_s)\n",
    "        divv = divv + 0.10\n",
    "      end #if\n",
    "      \n",
    "    end #(verz.length)  \n",
    "  end  #cleanup\n",
    "end  # while\n",
    "\n",
    "puts starttime\n",
    "puts Time.now\n"
   ]
  },
  {
   "cell_type": "code",
   "execution_count": 204,
   "metadata": {
    "collapsed": false,
    "scrolled": true
   },
   "outputs": [
    {
     "name": "stdout",
     "output_type": "stream",
     "text": [
      "Score -733: 2\n",
      "Score -731: 4\n",
      "Score -730: 6\n",
      "Score -729: 2\n",
      "Score -728: 42\n",
      "Score -727: 6\n",
      "Score -726: 87\n",
      "Score -725: 108\n",
      "Score -724: 74\n",
      "Score -723: 471\n",
      "Score -722: 129\n",
      "Score -721: 955\n",
      "Score -720: 991\n",
      "Score -716: 4\n",
      "Score -714: 4\n",
      "Score -713: 8\n",
      "Score -712: 2\n",
      "Score -711: 50\n",
      "Score -710: 12\n",
      "Score -709: 93\n",
      "Score -708: 156\n",
      "Score -707: 82\n",
      "Score -706: 604\n",
      "Score -705: 243\n",
      "Score -704: 961\n",
      "Score -703: 997\n",
      "Score -702: 6\n",
      "Score -701: 48\n",
      "Score -700: 8\n",
      "Score -699: 133\n",
      "Score -698: 114\n",
      "Score -694: 2\n"
     ]
    },
    {
     "data": {
      "text/plain": [
       "-733...-233"
      ]
     },
     "execution_count": 204,
     "metadata": {},
     "output_type": "execute_result"
    }
   ],
   "source": [
    "$routes=Array.new()\n",
    "\n",
    "#init \n",
    "min=65535\n",
    "scores=[]\n",
    "\n",
    "verz.each_index { |ec|\n",
    "  e=verz[ec]\n",
    "  sum=calcscore(e)\n",
    "  \n",
    "  $routes[ec] = sum\n",
    "  scores << sum  \n",
    "} #verz\n",
    "\n",
    "min  = scores.min\n",
    "max  = 0\n",
    "nmax = 999\n",
    "\n",
    "for i in min...(min+500) do\n",
    "  puts \"Score \"+i.to_s+\": \"+scores.count(i).to_s  if scores.count(i)>0\n",
    "  max  = max + scores.count(i)\n",
    "  nmax = i if max <= 20    # if more than 20 routes, stop adding to bestroutes\n",
    "end\n",
    "\n"
   ]
  },
  {
   "cell_type": "markdown",
   "metadata": {
    "collapsed": true
   },
   "source": [
    "# best routes"
   ]
  },
  {
   "cell_type": "code",
   "execution_count": 205,
   "metadata": {
    "collapsed": false,
    "scrolled": true
   },
   "outputs": [
    {
     "name": "stdout",
     "output_type": "stream",
     "text": [
      "Ready! I have found 14 paths that have score <= -729\n"
     ]
    }
   ],
   "source": [
    "$bestroutes=[] \n",
    "\n",
    "verz.each_index{ |ec|\n",
    "  e = verz[ec]\n",
    "  if $routes[ec] <= nmax \n",
    "    $bestroutes << e\n",
    "  end  \n",
    "}\n",
    "\n",
    "puts \"Ready! I have found \"+$bestroutes.length.to_s+\" paths that have score <= \"+nmax.to_s\n",
    "\n"
   ]
  },
  {
   "cell_type": "markdown",
   "metadata": {},
   "source": [
    "##  Variable   min   contains the lowest score, which is the best path \n",
    "##  nmax   is the value with about the best ~20 paths.\n",
    "##  $bestroutes     is an array containing the best paths. "
   ]
  },
  {
   "cell_type": "code",
   "execution_count": 206,
   "metadata": {
    "collapsed": true
   },
   "outputs": [],
   "source": [
    "# now who is the winner?\n",
    "winner=[]\n",
    "\n",
    "$bestroutes.each { |oneroute|\n",
    "  winner << oneroute if calcscore(oneroute)==min\n",
    "  }\n",
    "\n",
    "\n",
    "if false\n",
    "  sscores=[]\n",
    "  $bestroutes.each { |oneroute|\n",
    "    sscores <<  calcscore(oneroute)\n",
    "    }\n",
    "\n",
    "  winner=[]\n",
    "  mmin=scores.min\n",
    "  $bestroutes.each { |oneroute|\n",
    "    winner << oneroute if calcscore(oneroute)==mmin\n",
    "    }\n",
    "end\n"
   ]
  },
  {
   "cell_type": "markdown",
   "metadata": {},
   "source": [
    "# this is the main result of the script"
   ]
  },
  {
   "cell_type": "code",
   "execution_count": 207,
   "metadata": {
    "collapsed": false,
    "scrolled": false
   },
   "outputs": [
    {
     "name": "stdout",
     "output_type": "stream",
     "text": [
      "these 14 are the best routes in :\n",
      "OK:{25=>14}{25=>\"LC1-PULL=A2\"}\n",
      "OK:{10=>14}{10=>\"LC1-PUSH=G2\"}\n",
      "OK:{27=>14}{27=>\"LG4-PULL=F#2\"}\n",
      "OK:{25=>14}{25=>\"LC1-PULL=A2\"}\n",
      "OK:{27=>14}{27=>\"LG4-PULL=F#2\"}\n",
      "OK:{25=>14}{25=>\"LC1-PULL=A2\"}\n",
      "OK:{51=>14}{51=>\"RC1-PULL=B2\"}\n",
      "OK:{32=>14}{32=>\"RT2-PUSH=C#3\"}\n",
      "OK:{51=>14}{51=>\"RC1-PULL=B2\"}\n",
      "OK:{25=>14}{25=>\"LC1-PULL=A2\"}\n",
      "OK:{10=>14}{10=>\"LC1-PUSH=G2\"}\n",
      "OK:{27=>14}{27=>\"LG4-PULL=F#2\"}\n",
      "??:{25=>2, 28=>12}{25=>\"LC1-PULL=A2\", 28=>\"LG3-PULL=A2\"}\n",
      "??:{52=>2, 15=>12}{52=>\"RC2-PULL=D3\", 15=>\"LG1-PUSH=D3\"}\n",
      "??:{37=>2, 30=>12}{37=>\"RC2-PUSH=E3\", 30=>\"LG1-PULL=E3\"}\n",
      "OK:{56=>14}{56=>\"RG1-PULL=F#3\"}\n",
      "OK:{30=>14}{30=>\"LG1-PULL=E3\"}\n",
      "OK:{56=>14}{56=>\"RG1-PULL=F#3\"}\n",
      "OK:{41=>14}{41=>\"RG1-PUSH=G3\"}\n",
      "OK:{56=>14}{56=>\"RG1-PULL=F#3\"}\n",
      "OK:{41=>14}{41=>\"RG1-PUSH=G3\"}\n",
      "OK:{56=>14}{56=>\"RG1-PULL=F#3\"}\n",
      "OK:{30=>14}{30=>\"LG1-PULL=E3\"}\n",
      "OK:{56=>14}{56=>\"RG1-PULL=F#3\"}\n",
      "OK:{30=>14}{30=>\"LG1-PULL=E3\"}\n",
      "OK:{15=>14}{15=>\"LG1-PUSH=D3\"}\n",
      "??:{51=>12, 14=>2}{51=>\"RC1-PULL=B2\", 14=>\"LG2-PUSH=B2\"}\n",
      "OK:{25=>14}{25=>\"LC1-PULL=A2\"}\n",
      "OK:{51=>14}{51=>\"RC1-PULL=B2\"}\n",
      "OK:{25=>14}{25=>\"LC1-PULL=A2\"}\n",
      "OK:{27=>14}{27=>\"LG4-PULL=F#2\"}\n",
      "OK:{12=>14}{12=>\"LG4-PUSH=D2\"}\n",
      "OK:{9=>14}{9=>\"LC2-PUSH=E2\"}\n",
      "OK:{25=>14}{25=>\"LC1-PULL=A2\"}\n",
      "OK:{10=>14}{10=>\"LC1-PUSH=G2\"}\n",
      "OK:{25=>14}{25=>\"LC1-PULL=A2\"}\n",
      "OK:{51=>14}{51=>\"RC1-PULL=B2\"}\n",
      "??:{25=>7, 28=>7}{25=>\"LC1-PULL=A2\", 28=>\"LG3-PULL=A2\"}\n",
      "??:{37=>7, 30=>7}{37=>\"RC2-PUSH=E3\", 30=>\"LG1-PULL=E3\"}\n",
      "OK:{56=>14}{56=>\"RG1-PULL=F#3\"}\n",
      "OK:{30=>14}{30=>\"LG1-PULL=E3\"}\n",
      "OK:{15=>14}{15=>\"LG1-PUSH=D3\"}\n",
      "OK:{30=>14}{30=>\"LG1-PULL=E3\"}\n",
      "OK:{56=>14}{56=>\"RG1-PULL=F#3\"}\n",
      "OK:{30=>14}{30=>\"LG1-PULL=E3\"}\n",
      "OK:{56=>14}{56=>\"RG1-PULL=F#3\"}\n",
      "OK:{30=>14}{30=>\"LG1-PULL=E3\"}\n",
      "OK:{56=>14}{56=>\"RG1-PULL=F#3\"}\n",
      "OK:{30=>14}{30=>\"LG1-PULL=E3\"}\n",
      "OK:{56=>14}{56=>\"RG1-PULL=F#3\"}\n",
      "OK:{41=>14}{41=>\"RG1-PUSH=G3\"}\n",
      "??:{57=>10, 54=>4}{57=>\"RG2-PULL=A3\", 54=>\"RC4-PULL=A3\"}\n",
      "OK:{25=>14}{25=>\"LC1-PULL=A2\"}\n",
      "OK:{51=>14}{51=>\"RC1-PULL=B2\"}\n",
      "OK:{25=>14}{25=>\"LC1-PULL=A2\"}\n",
      "OK:{51=>14}{51=>\"RC1-PULL=B2\"}\n",
      "OK:{25=>14}{25=>\"LC1-PULL=A2\"}\n",
      "OK:{27=>14}{27=>\"LG4-PULL=F#2\"}\n",
      "OK:{25=>14}{25=>\"LC1-PULL=A2\"}\n",
      "OK:{51=>14}{51=>\"RC1-PULL=B2\"}\n",
      "OK:{25=>14}{25=>\"LC1-PULL=A2\"}\n",
      "??:{51=>12, 14=>2}{51=>\"RC1-PULL=B2\", 14=>\"LG2-PUSH=B2\"}\n",
      "OK:{15=>14}{15=>\"LG1-PUSH=D3\"}\n",
      "OK:{30=>14}{30=>\"LG1-PULL=E3\"}\n",
      "OK:{56=>14}{56=>\"RG1-PULL=F#3\"}\n",
      "OK:{30=>14}{30=>\"LG1-PULL=E3\"}\n",
      "OK:{56=>14}{56=>\"RG1-PULL=F#3\"}\n",
      "OK:{30=>14}{30=>\"LG1-PULL=E3\"}\n",
      "OK:{56=>14}{56=>\"RG1-PULL=F#3\"}\n",
      "OK:{30=>14}{30=>\"LG1-PULL=E3\"}\n",
      "OK:{15=>14}{15=>\"LG1-PUSH=D3\"}\n",
      "OK:{56=>14}{56=>\"RG1-PULL=F#3\"}\n",
      "OK:{57=>14}{57=>\"RG2-PULL=A3\"}\n",
      "OK:{42=>14}{42=>\"RG2-PUSH=B3\"}\n",
      "OK:{57=>14}{57=>\"RG2-PULL=A3\"}\n",
      "OK:{56=>14}{56=>\"RG1-PULL=F#3\"}\n",
      "??:{57=>10, 54=>4}{57=>\"RG2-PULL=A3\", 54=>\"RC4-PULL=A3\"}\n",
      "OK:{56=>14}{56=>\"RG1-PULL=F#3\"}\n",
      "OK:{30=>14}{30=>\"LG1-PULL=E3\"}\n",
      "OK:{15=>14}{15=>\"LG1-PUSH=D3\"}\n",
      "OK:{30=>14}{30=>\"LG1-PULL=E3\"}\n",
      "OK:{15=>14}{15=>\"LG1-PUSH=D3\"}\n"
     ]
    },
    {
     "data": {
      "text/plain": [
       "0..81"
      ]
     },
     "execution_count": 207,
     "metadata": {},
     "output_type": "execute_result"
    }
   ],
   "source": [
    "# now we want to now a little more about what we found.\n",
    "# so, from the best routes\n",
    "# make a 'median' route\n",
    "\n",
    "\n",
    "tunelength = $bestroutes[0].length \n",
    "nrofbest = $bestroutes.length\n",
    "\n",
    "puts \"these \" + nrofbest.to_s + \" are the best routes in :\"\n",
    "for i in 0..tunelength-1\n",
    "  bestnotes = []\n",
    "  $bestroutes.each_index { |route|\n",
    "    bestnotes << $bestroutes[route][i]\n",
    "  }\n",
    "  \n",
    "  min=bestnotes.min\n",
    "  max=bestnotes.max\n",
    "  \n",
    "  # Pretty sure about a button when  min==max\n",
    "  # else there is no obvious winner \n",
    "  print \"OK:\" if min==max\n",
    "  print \"??:\" if min!=max\n",
    "  \n",
    "  puts bestnotes.group_by { |e| e }.map{ |k, v| [k, v.length] }.to_h.to_s + \n",
    "       bestnotes.group_by { |e| e }.map{ |k, v| [k, $tinamap[k]] }.to_h.to_s\n",
    "    \n",
    "end \n"
   ]
  },
  {
   "cell_type": "code",
   "execution_count": 208,
   "metadata": {
    "collapsed": false
   },
   "outputs": [
    {
     "name": "stdout",
     "output_type": "stream",
     "text": [
      "2018-12-31 15:20:54 +0100\n",
      "route:25,10,27,25,27,25,51,32,51,25,10,27,28,15,30,56,30,56,41,56,41,56,30,56,30,15,51,25,51,25,27,12,9,25,10,25,51,25,37,56,30,15,30,56,30,56,30,56,30,56,41,57,25,51,25,51,25,27,25,51,25,51,15,30,56,30,56,30,56,30,15,56,57,42,57,56,57,56,30,15,30,15, score: -733\n",
      "25; LC1-PULL=A2;   + \n",
      "10; LC1-PUSH=G2;  25->10;  -19;\n",
      "27; LG4-PULL=F#2; 10->27;    0;\n",
      "25; LC1-PULL=A2;  27->25;   -8;\n",
      "27; LG4-PULL=F#2; 25->27;   -1;\n",
      "25; LC1-PULL=A2;  27->25;   -8;\n",
      "51; RC1-PULL=B2;  25->51;   -7;\n",
      "32; RT2-PUSH=C#3; 51->32;   13; + \n",
      "51; RC1-PULL=B2;  32->51;   -7;\n",
      "25; LC1-PULL=A2;  51->25;   -7;\n",
      "10; LC1-PUSH=G2;  25->10;  -19;\n",
      "27; LG4-PULL=F#2; 10->27;    0;\n",
      "28; LG3-PULL=A2;  27->28;   -1;\n",
      "15; LG1-PUSH=D3;  28->15;   -7;\n",
      "30; LG1-PULL=E3;  15->30;  -19;\n",
      "56; RG1-PULL=F#3; 30->56;   -7;\n",
      "30; LG1-PULL=E3;  56->30;   -7;\n",
      "56; RG1-PULL=F#3; 30->56;   -7;\n",
      "41; RG1-PUSH=G3;  56->41;  -19;\n",
      "56; RG1-PULL=F#3; 41->56;  -19;\n",
      "41; RG1-PUSH=G3;  56->41;  -19;\n",
      "56; RG1-PULL=F#3; 41->56;  -19;\n",
      "30; LG1-PULL=E3;  56->30;   -7;\n",
      "56; RG1-PULL=F#3; 30->56;   -7;\n",
      "30; LG1-PULL=E3;  56->30;   -7;\n",
      "15; LG1-PUSH=D3;  30->15;  -19;\n",
      "51; RC1-PULL=B2;  15->51;   -6;\n",
      "25; LC1-PULL=A2;  51->25;   -7;\n",
      "51; RC1-PULL=B2;  25->51;   -7;\n",
      "25; LC1-PULL=A2;  51->25;   -7;\n",
      "27; LG4-PULL=F#2; 25->27;   -1;\n",
      "12; LG4-PUSH=D2;  27->12;  -12;\n",
      "09; LC2-PUSH=E2;  12->09;   -3;\n",
      "25; LC1-PULL=A2;  09->25;   -7;\n",
      "10; LC1-PUSH=G2;  25->10;  -19;\n",
      "25; LC1-PULL=A2;  10->25;  -19;\n",
      "51; RC1-PULL=B2;  25->51;   -7;\n",
      "25; LC1-PULL=A2;  51->25;   -7;\n",
      "37; RC2-PUSH=E3;  25->37;   -1;\n",
      "56; RG1-PULL=F#3; 37->56;   -7;\n",
      "30; LG1-PULL=E3;  56->30;   -7;\n",
      "15; LG1-PUSH=D3;  30->15;  -19;\n",
      "30; LG1-PULL=E3;  15->30;  -19;\n",
      "56; RG1-PULL=F#3; 30->56;   -7;\n",
      "30; LG1-PULL=E3;  56->30;   -7;\n",
      "56; RG1-PULL=F#3; 30->56;   -7;\n",
      "30; LG1-PULL=E3;  56->30;   -7;\n",
      "56; RG1-PULL=F#3; 30->56;   -7;\n",
      "30; LG1-PULL=E3;  56->30;   -7;\n",
      "56; RG1-PULL=F#3; 30->56;   -7;\n",
      "41; RG1-PUSH=G3;  56->41;  -19;\n",
      "57; RG2-PULL=A3;  41->57;   -2;\n",
      "25; LC1-PULL=A2;  57->25;   -7;\n",
      "51; RC1-PULL=B2;  25->51;   -7;\n",
      "25; LC1-PULL=A2;  51->25;   -7;\n",
      "51; RC1-PULL=B2;  25->51;   -7;\n",
      "25; LC1-PULL=A2;  51->25;   -7;\n",
      "27; LG4-PULL=F#2; 25->27;   -1;\n",
      "25; LC1-PULL=A2;  27->25;   -8;\n",
      "51; RC1-PULL=B2;  25->51;   -7;\n",
      "25; LC1-PULL=A2;  51->25;   -7;\n",
      "51; RC1-PULL=B2;  25->51;   -7;\n",
      "15; LG1-PUSH=D3;  51->15;   -6;\n",
      "30; LG1-PULL=E3;  15->30;  -19;\n",
      "56; RG1-PULL=F#3; 30->56;   -7;\n",
      "30; LG1-PULL=E3;  56->30;   -7;\n",
      "56; RG1-PULL=F#3; 30->56;   -7;\n",
      "30; LG1-PULL=E3;  56->30;   -7;\n",
      "56; RG1-PULL=F#3; 30->56;   -7;\n",
      "30; LG1-PULL=E3;  56->30;   -7;\n",
      "15; LG1-PUSH=D3;  30->15;  -19;\n",
      "56; RG1-PULL=F#3; 15->56;   -6;\n",
      "57; RG2-PULL=A3;  56->57;   -3;\n",
      "42; RG2-PUSH=B3;  57->42;  -14;\n",
      "57; RG2-PULL=A3;  42->57;  -14;\n",
      "56; RG1-PULL=F#3; 57->56;   -8;\n",
      "57; RG2-PULL=A3;  56->57;   -3;\n",
      "56; RG1-PULL=F#3; 57->56;   -8;\n",
      "30; LG1-PULL=E3;  56->30;   -7;\n",
      "15; LG1-PUSH=D3;  30->15;  -19;\n",
      "30; LG1-PULL=E3;  15->30;  -19;\n",
      "15; LG1-PUSH=D3;  30->15;  -19;\n",
      "route:25,10,27,25,27,25,51,32,51,25,10,27,28,15,30,56,30,56,41,56,41,56,30,56,30,15,51,25,51,25,27,12,9,25,10,25,51,28,30,56,30,15,30,56,30,56,30,56,30,56,41,57,25,51,25,51,25,27,25,51,25,51,15,30,56,30,56,30,56,30,15,56,57,42,57,56,57,56,30,15,30,15, score: -733\n",
      "25; LC1-PULL=A2;   + \n",
      "10; LC1-PUSH=G2;  25->10;  -19;\n",
      "27; LG4-PULL=F#2; 10->27;    0;\n",
      "25; LC1-PULL=A2;  27->25;   -8;\n",
      "27; LG4-PULL=F#2; 25->27;   -1;\n",
      "25; LC1-PULL=A2;  27->25;   -8;\n",
      "51; RC1-PULL=B2;  25->51;   -7;\n",
      "32; RT2-PUSH=C#3; 51->32;   13; + \n",
      "51; RC1-PULL=B2;  32->51;   -7;\n",
      "25; LC1-PULL=A2;  51->25;   -7;\n",
      "10; LC1-PUSH=G2;  25->10;  -19;\n",
      "27; LG4-PULL=F#2; 10->27;    0;\n",
      "28; LG3-PULL=A2;  27->28;   -1;\n",
      "15; LG1-PUSH=D3;  28->15;   -7;\n",
      "30; LG1-PULL=E3;  15->30;  -19;\n",
      "56; RG1-PULL=F#3; 30->56;   -7;\n",
      "30; LG1-PULL=E3;  56->30;   -7;\n",
      "56; RG1-PULL=F#3; 30->56;   -7;\n",
      "41; RG1-PUSH=G3;  56->41;  -19;\n",
      "56; RG1-PULL=F#3; 41->56;  -19;\n",
      "41; RG1-PUSH=G3;  56->41;  -19;\n",
      "56; RG1-PULL=F#3; 41->56;  -19;\n",
      "30; LG1-PULL=E3;  56->30;   -7;\n",
      "56; RG1-PULL=F#3; 30->56;   -7;\n",
      "30; LG1-PULL=E3;  56->30;   -7;\n",
      "15; LG1-PUSH=D3;  30->15;  -19;\n",
      "51; RC1-PULL=B2;  15->51;   -6;\n",
      "25; LC1-PULL=A2;  51->25;   -7;\n",
      "51; RC1-PULL=B2;  25->51;   -7;\n",
      "25; LC1-PULL=A2;  51->25;   -7;\n",
      "27; LG4-PULL=F#2; 25->27;   -1;\n",
      "12; LG4-PUSH=D2;  27->12;  -12;\n",
      "09; LC2-PUSH=E2;  12->09;   -3;\n",
      "25; LC1-PULL=A2;  09->25;   -7;\n",
      "10; LC1-PUSH=G2;  25->10;  -19;\n",
      "25; LC1-PULL=A2;  10->25;  -19;\n",
      "51; RC1-PULL=B2;  25->51;   -7;\n",
      "28; LG3-PULL=A2;  51->28;    0;\n",
      "30; LG1-PULL=E3;  28->30;   -8;\n",
      "56; RG1-PULL=F#3; 30->56;   -7;\n",
      "30; LG1-PULL=E3;  56->30;   -7;\n",
      "15; LG1-PUSH=D3;  30->15;  -19;\n",
      "30; LG1-PULL=E3;  15->30;  -19;\n",
      "56; RG1-PULL=F#3; 30->56;   -7;\n",
      "30; LG1-PULL=E3;  56->30;   -7;\n",
      "56; RG1-PULL=F#3; 30->56;   -7;\n",
      "30; LG1-PULL=E3;  56->30;   -7;\n",
      "56; RG1-PULL=F#3; 30->56;   -7;\n",
      "30; LG1-PULL=E3;  56->30;   -7;\n",
      "56; RG1-PULL=F#3; 30->56;   -7;\n",
      "41; RG1-PUSH=G3;  56->41;  -19;\n",
      "57; RG2-PULL=A3;  41->57;   -2;\n",
      "25; LC1-PULL=A2;  57->25;   -7;\n",
      "51; RC1-PULL=B2;  25->51;   -7;\n",
      "25; LC1-PULL=A2;  51->25;   -7;\n",
      "51; RC1-PULL=B2;  25->51;   -7;\n",
      "25; LC1-PULL=A2;  51->25;   -7;\n",
      "27; LG4-PULL=F#2; 25->27;   -1;\n",
      "25; LC1-PULL=A2;  27->25;   -8;\n",
      "51; RC1-PULL=B2;  25->51;   -7;\n",
      "25; LC1-PULL=A2;  51->25;   -7;\n",
      "51; RC1-PULL=B2;  25->51;   -7;\n",
      "15; LG1-PUSH=D3;  51->15;   -6;\n",
      "30; LG1-PULL=E3;  15->30;  -19;\n",
      "56; RG1-PULL=F#3; 30->56;   -7;\n",
      "30; LG1-PULL=E3;  56->30;   -7;\n",
      "56; RG1-PULL=F#3; 30->56;   -7;\n",
      "30; LG1-PULL=E3;  56->30;   -7;\n",
      "56; RG1-PULL=F#3; 30->56;   -7;\n",
      "30; LG1-PULL=E3;  56->30;   -7;\n",
      "15; LG1-PUSH=D3;  30->15;  -19;\n",
      "56; RG1-PULL=F#3; 15->56;   -6;\n",
      "57; RG2-PULL=A3;  56->57;   -3;\n",
      "42; RG2-PUSH=B3;  57->42;  -14;\n",
      "57; RG2-PULL=A3;  42->57;  -14;\n",
      "56; RG1-PULL=F#3; 57->56;   -8;\n",
      "57; RG2-PULL=A3;  56->57;   -3;\n",
      "56; RG1-PULL=F#3; 57->56;   -8;\n",
      "30; LG1-PULL=E3;  56->30;   -7;\n",
      "15; LG1-PUSH=D3;  30->15;  -19;\n",
      "30; LG1-PULL=E3;  15->30;  -19;\n",
      "15; LG1-PUSH=D3;  30->15;  -19;\n"
     ]
    },
    {
     "data": {
      "text/plain": [
       "[[25, 10, 27, 25, 27, 25, 51, 32, 51, 25, 10, 27, 28, 15, 30, 56, 30, 56, 41, 56, 41, 56, 30, 56, 30, 15, 51, 25, 51, 25, 27, 12, 9, 25, 10, 25, 51, 25, 37, 56, 30, 15, 30, 56, 30, 56, 30, 56, 30, 56, 41, 57, 25, 51, 25, 51, 25, 27, 25, 51, 25, 51, 15, 30, 56, 30, 56, 30, 56, 30, 15, 56, 57, 42, 57, 56, 57, 56, 30, 15, 30, 15], [25, 10, 27, 25, 27, 25, 51, 32, 51, 25, 10, 27, 28, 15, 30, 56, 30, 56, 41, 56, 41, 56, 30, 56, 30, 15, 51, 25, 51, 25, 27, 12, 9, 25, 10, 25, 51, 28, 30, 56, 30, 15, 30, 56, 30, 56, 30, 56, 30, 56, 41, 57, 25, 51, 25, 51, 25, 27, 25, 51, 25, 51, 15, 30, 56, 30, 56, 30, 56, 30, 15, 56, 57, 42, 57, 56, 57, 56, 30, 15, 30, 15]]"
      ]
     },
     "execution_count": 208,
     "metadata": {},
     "output_type": "execute_result"
    }
   ],
   "source": [
    "#\n",
    "# more details on the\n",
    "# winner(s) route(s)\n",
    "# \n",
    "\n",
    "puts Time.now\n",
    "\n",
    "if winner.length<20\n",
    "\n",
    "  winner.each { |e|\n",
    "    sum = calcscore(e)\n",
    "    puts \"route:\" + e.join(\",\") + \", score: \" + sum.to_s\n",
    "\n",
    "    e.each_index { |ee|\n",
    "      fro = e[ee-1]\n",
    "      too = e[ee]\n",
    "      line= too.to_s.rjust(2,\"0\") + \"; \" + $tinamap[too].to_s + \";\"  \n",
    "\n",
    "      line.include?(\"#\") ? line=line+\" \" : line=line+\"  \" # add aspace if no  sharp#\n",
    "      line = line + fro.to_s.rjust(2,\"0\") + \"->\" + too.to_s.rjust(2,\"0\") + \"; \" + $distmat[fro][too].to_s.rjust(4,\" \") + \";\" if ee>0\n",
    "      line = line + \" + \"   if $distmat[fro][too]>0    # add a '+' \n",
    "      puts line\n",
    "      }\n",
    "    }\n",
    "else\n",
    "  puts \"Too much winners (\"+ winner.length.to_s+\") to list them all!\"\n",
    "end\n"
   ]
  },
  {
   "cell_type": "code",
   "execution_count": 209,
   "metadata": {
    "collapsed": true
   },
   "outputs": [],
   "source": [
    "# end of script\n",
    "# concertina-6.rb"
   ]
  },
  {
   "cell_type": "code",
   "execution_count": 210,
   "metadata": {
    "collapsed": true
   },
   "outputs": [],
   "source": [
    "# start of plot script"
   ]
  },
  {
   "cell_type": "code",
   "execution_count": 211,
   "metadata": {
    "collapsed": false
   },
   "outputs": [
    {
     "data": {
      "text/plain": [
       "222"
      ]
     },
     "execution_count": 211,
     "metadata": {},
     "output_type": "execute_result"
    }
   ],
   "source": [
    "require 'chunky_png'\n",
    "\n",
    "#globals\n",
    "\n",
    "#A4 200dpi\n",
    "$xpapersize = 1654\n",
    "$ypapersize = 2339  \n",
    "$tunelength= winner.length\n",
    "\n",
    "# now xmax depends on papersize and length of tune\n",
    "# xmax and ymax are the size of one button-system on the page.\n",
    "#\n",
    "# let's put  6 systems on $xpapersize and\n",
    "# let's put 10 systems on $ypapersize and\n",
    "$nr_butt_x = 6\n",
    "$nr_butt_y = 10\n",
    "\n",
    "# and take 5% whitespace, left and right both 2,5%\n",
    "$xmax = (0.95*$xpapersize/$nr_butt_x).to_i\n",
    "$ymax = (0.95*$ypapersize/$nr_butt_y).to_i"
   ]
  },
  {
   "cell_type": "code",
   "execution_count": 212,
   "metadata": {
    "collapsed": false
   },
   "outputs": [
    {
     "data": {
      "text/plain": [
       ":getxbase"
      ]
     },
     "execution_count": 212,
     "metadata": {},
     "output_type": "execute_result"
    }
   ],
   "source": [
    "def getxbase(notenumber)\n",
    "  #\n",
    "  # xbase is the place of the middle of the diagram on the A4 output\n",
    "  #\n",
    "  #\n",
    "  # width is $xpapersize\n",
    "  # $nr_butt_x = 6\n",
    "  # $nr_butt_y = 10\n",
    "\n",
    "  # $xmax = (0.95*$xpapersize/$nr_butt_x).to_i\n",
    "  # $ymax = (0.95*$ypapersize/$nr_butt_y).to_i\n",
    "\n",
    "  # xstart = 0.05 * $xpapersize\n",
    "  # add $xmax for every system (1..$nr_butt_x)\n",
    "  # start again ($nr_butt_x+1..$nr_butt_x*2)  \n",
    "\n",
    "  # midpoint is \n",
    "  #  a small whitespace,\n",
    "  #  the width of one system, when $nr_butt_x systems of x-width\n",
    "  #  and the middle of the system (half width, xmax/2)\n",
    "\n",
    "  result = (0.025*$xpapersize + $xmax*(notenumber % $nr_butt_x) + $xmax/2).to_i\n",
    "end"
   ]
  },
  {
   "cell_type": "code",
   "execution_count": 213,
   "metadata": {
    "collapsed": false
   },
   "outputs": [
    {
     "data": {
      "text/plain": [
       ":getybase"
      ]
     },
     "execution_count": 213,
     "metadata": {},
     "output_type": "execute_result"
    }
   ],
   "source": [
    "def getybase(notenumber)\n",
    "  #\n",
    "  # ybase is the place of the middle of the diagram on the A4 output\n",
    "  #\n",
    "  header = 0 \n",
    "  result = header + (0.05*$ypapersize + ($ymax*(notenumber/$nr_butt_x))-1).to_i\n",
    "end"
   ]
  },
  {
   "cell_type": "code",
   "execution_count": 214,
   "metadata": {
    "collapsed": false
   },
   "outputs": [
    {
     "data": {
      "text/plain": [
       ":get_x"
      ]
     },
     "execution_count": 214,
     "metadata": {},
     "output_type": "execute_result"
    }
   ],
   "source": [
    "def get_x(buttonnr)\n",
    "  side   = 0\n",
    "  button = 0\n",
    "  \n",
    "  if $tinakeys[buttonnr][\"side\"] == 2 #right\n",
    "    side = 1\n",
    "  else\n",
    "    side =-1\n",
    "  end\n",
    "  button = $tinakeys[buttonnr][\"button\"]\n",
    "  \n",
    "  #             \n",
    "  # left and right side are both  ($xmax/2) wide\n",
    "  # button = 1..5   leftside: right to left,   rightside: left to right \n",
    "  # side = -1 when leftside,  +1 on rightside\n",
    "  # a side has 5 buttons, \n",
    "  #   take 5,5 of 7 buttons to create some whitespace\n",
    "  x = side*button*(($xmax/2)/7).to_i\n",
    "  result = x\n",
    "end"
   ]
  },
  {
   "cell_type": "code",
   "execution_count": 215,
   "metadata": {
    "collapsed": false
   },
   "outputs": [
    {
     "data": {
      "text/plain": [
       ":get_y"
      ]
     },
     "execution_count": 215,
     "metadata": {},
     "output_type": "execute_result"
    }
   ],
   "source": [
    "def get_y(buttonnr)   \n",
    "  #\n",
    "  # get_y is the positon from the middle of the diagram\n",
    "  # which is calculated in  getxbase and getybase\n",
    "  # \n",
    "  # xbase and ybase depends n-th note of the tune we are plotting\n",
    "  # this x and y depend on the button we play\n",
    "  #\n",
    "  #\n",
    "  \n",
    "  row    = $tinakeys[buttonnr][\"row\"]      # range 1..3 \n",
    "  button = $tinakeys[buttonnr][\"button\"]   # range 1..5\n",
    "  \n",
    "  y = 0.05*$ymax +            # whitespace from basepoint\n",
    "    (row-1)*(0.67*$ymax/3) +  # 3 rows on 67% of the available height\n",
    "    button*2                  # bends the row a little down\n",
    "  result = y.to_i\n",
    "end"
   ]
  },
  {
   "cell_type": "code",
   "execution_count": 216,
   "metadata": {
    "collapsed": false
   },
   "outputs": [
    {
     "name": "stdout",
     "output_type": "stream",
     "text": [
      "[[25, 10, 27, 25, 27, 25, 51, 32, 51, 25, 10, 27, 28, 15, 30, 56, 30, 56, 41, 56, 41, 56, 30, 56, 30, 15, 51, 25, 51, 25, 27, 12, 9, 25, 10, 25, 51, 25, 37, 56, 30, 15, 30, 56, 30, 56, 30, 56, 30, 56, 41, 57, 25, 51, 25, 51, 25, 27, 25, 51, 25, 51, 15, 30, 56, 30, 56, 30, 56, 30, 15, 56, 57, 42, 57, 56, 57, 56, 30, 15, 30, 15], [25, 10, 27, 25, 27, 25, 51, 32, 51, 25, 10, 27, 28, 15, 30, 56, 30, 56, 41, 56, 41, 56, 30, 56, 30, 15, 51, 25, 51, 25, 27, 12, 9, 25, 10, 25, 51, 28, 30, 56, 30, 15, 30, 56, 30, 56, 30, 56, 30, 56, 41, 57, 25, 51, 25, 51, 25, 27, 25, 51, 25, 51, 15, 30, 56, 30, 56, 30, 56, 30, 15, 56, 57, 42, 57, 56, 57, 56, 30, 15, 30, 15]]\n",
      " > Created new PNG for page 0\n"
     ]
    },
    {
     "ename": "TypeError",
     "evalue": "no implicit conversion of Symbol into Integer",
     "output_type": "error",
     "traceback": [
      "\u001b[31mTypeError\u001b[0m: no implicit conversion of Symbol into Integer",
      "\u001b[37m<main>:125:in `[]'\u001b[0m",
      "\u001b[37m<main>:125:in `block in <main>'\u001b[0m",
      "\u001b[37m<main>:15:in `each'\u001b[0m",
      "\u001b[37m<main>:15:in `<main>'\u001b[0m",
      "\u001b[37mC:/Ruby22-x64/lib/ruby/gems/2.2.0/gems/iruby-0.3/lib/iruby/backend.rb:44:in `eval'\u001b[0m",
      "\u001b[37mC:/Ruby22-x64/lib/ruby/gems/2.2.0/gems/iruby-0.3/lib/iruby/backend.rb:44:in `eval'\u001b[0m",
      "\u001b[37mC:/Ruby22-x64/lib/ruby/gems/2.2.0/gems/iruby-0.3/lib/iruby/backend.rb:12:in `eval'\u001b[0m",
      "\u001b[37mC:/Ruby22-x64/lib/ruby/gems/2.2.0/gems/iruby-0.3/lib/iruby/kernel.rb:87:in `execute_request'\u001b[0m",
      "\u001b[37mC:/Ruby22-x64/lib/ruby/gems/2.2.0/gems/iruby-0.3/lib/iruby/kernel.rb:47:in `dispatch'\u001b[0m",
      "\u001b[37mC:/Ruby22-x64/lib/ruby/gems/2.2.0/gems/iruby-0.3/lib/iruby/kernel.rb:37:in `run'\u001b[0m",
      "\u001b[37mC:/Ruby22-x64/lib/ruby/gems/2.2.0/gems/iruby-0.3/lib/iruby/command.rb:70:in `run_kernel'\u001b[0m",
      "\u001b[37mC:/Ruby22-x64/lib/ruby/gems/2.2.0/gems/iruby-0.3/lib/iruby/command.rb:34:in `run'\u001b[0m",
      "\u001b[37mC:/Ruby22-x64/lib/ruby/gems/2.2.0/gems/iruby-0.3/bin/iruby:5:in `<top (required)>'\u001b[0m",
      "\u001b[37mC:/Ruby22-x64/bin/iruby:22:in `load'\u001b[0m",
      "\u001b[37mC:/Ruby22-x64/bin/iruby:22:in `<main>'\u001b[0m"
     ]
    }
   ],
   "source": [
    "# Creating an image from scratch, save as an interlaced PNG\n",
    "# A4 200dpi is 1654 x 2339\n",
    "\n",
    "\n",
    "# winner = winner[0] if winner.length==1\n",
    "len = winner.length.to_f\n",
    "puts winner\n",
    "\n",
    "ononepage = $nr_butt_x * $nr_butt_y \n",
    "nr_of_pages = (len/ononepage).ceil\n",
    "\n",
    "#  \"I have \"+ len.to_s+ \" notes.\"\n",
    "#  \"I can handle \"+ ononepage.to_s+ \" notes on one page.\"\n",
    "#  \"I need \"+ nr_of_pages.to_s+ \" pages.\"\n",
    "\n",
    "for page in (0..nr_of_pages-1)\n",
    "\n",
    "  # this page\n",
    "  startnote = 0             + page*ononepage\n",
    "  endnote   = (ononepage-1) + page*ononepage\n",
    "  a_part = winner[startnote..endnote]\n",
    "  \n",
    "  \n",
    "  # create png\n",
    "  #\n",
    "  puts \" > Created new PNG for page \"+page.to_s\n",
    "  png = ChunkyPNG::Image.new($xpapersize, $ypapersize, ChunkyPNG::Color::WHITE) \n",
    "  #\n",
    "  #\n",
    "  # now get all the notes of the tune, one by one\n",
    "  a_part.each_index { |playmenr|   \n",
    "\n",
    "    \n",
    "    # the position of the system on the A4-paper\n",
    "    xbase = getxbase(playmenr)  \n",
    "    ybase = getybase(playmenr)\n",
    "\n",
    "    # paint that basepoint # tmp #\n",
    "    smallb=2\n",
    "    (xbase-smallb..xbase+smallb).each { |xx|\n",
    "      (ybase-smallb..ybase+smallb).each { |yy|\n",
    "        r_colorpp = 0\n",
    "        g_colorpp = 192\n",
    "        b_colorpp = 0\n",
    "        a_colorpp = 255\n",
    "\n",
    "        # while testing\n",
    "        # xx= [xx, $xpapersize-1].min\n",
    "        # yy= [yy, $ypapersize-1].min\n",
    "        # \n",
    "        png[xx,yy] = ChunkyPNG::Color.rgba(r_colorpp, g_colorpp, b_colorpp, a_colorpp)\n",
    "        }\n",
    "      }\n",
    "\n",
    "    \n",
    "    # the tune at pos playmenr need button... \n",
    "    button = a_part[playmenr]  \n",
    "    \n",
    "    #\n",
    "    # loop all buttons, which is too much (duplicate 16..30, 46..60) TODO\n",
    "    #\n",
    "    (1..60).each { |nn|\n",
    "\n",
    "      thisone = false\n",
    "      howbig  = 6\n",
    "      \n",
    "      if button == nn  # paint a bigger button \n",
    "        howbig  = 13\n",
    "        thisone = true  # ok    \n",
    "      end\n",
    "\n",
    "      x = xbase + get_x(nn) \n",
    "      y = ybase + get_y(nn)\n",
    "\n",
    "      ######## testing\n",
    "      verbose = false \n",
    "      if verbose\n",
    "        puts page.to_s+\":\"+playmenr.to_s+',Button,'+nn.to_s+\",\"+ xbase.to_s+ \",\"+ybase.to_s+ \",\"+ x.to_s+ \",\"+y.to_s+\",\"+ thisone.to_s\n",
    "      end\n",
    "      ######## testing\n",
    "\n",
    "      # get the color fo \n",
    "      # not the One:\n",
    "      r_colorpp = 64\n",
    "      g_colorpp = 96\n",
    "      b_colorpp = 128\n",
    "      a_colorpp = 128\n",
    "\n",
    "      if thisone         \n",
    "        if $tinakeys[nn][\"ppname\"]==\"pull\"\n",
    "          r_colorpp = 255  # pull = red\n",
    "          g_colorpp = 0\n",
    "          b_colorpp = 0\n",
    "          a_colorpp = 255  \n",
    "        else \n",
    "          r_colorpp = 0    # push = blue\n",
    "          g_colorpp = 0\n",
    "          b_colorpp = 255\n",
    "          a_colorpp = 255\n",
    "        end\n",
    "      end #thisone\n",
    "\n",
    "      (x-howbig..x+howbig).each { |xx|\n",
    "        (y-howbig..y+howbig).each { |yy|\n",
    "\n",
    "          # while testing \n",
    "          # xx= [xx, $xpapersize-1].min\n",
    "          # yy= [yy, $ypapersize-1].min\n",
    "          #\n",
    "\n",
    "          png[xx,yy] = ChunkyPNG::Color.rgba(r_colorpp, g_colorpp, b_colorpp, a_colorpp)\n",
    "          \n",
    "          \n",
    "        }\n",
    "        \n",
    "      }\n",
    "      \n",
    "    }\n",
    "\n",
    "    #why not add the other button?\n",
    "    #1. ge tother positions of note f.e A2\n",
    "    #2. paint a smaller red/blue dot there\n",
    "  }\n",
    "\n",
    "  #ready! \n",
    "  tunename = tune[:title].to_s\n",
    "  map = \"c:\\\\write\\\\\"+tunename+\"\\\\\"\n",
    "  filename = map+tunename+\"_p\"+page.to_s+'.png'\n",
    "  puts \" > Write \"+filename\n",
    "  png.save(filename)\n",
    "\n",
    "end #page"
   ]
  },
  {
   "cell_type": "code",
   "execution_count": 217,
   "metadata": {
    "collapsed": false
   },
   "outputs": [
    {
     "data": {
      "text/plain": [
       "[[25, 10, 27, 25, 27, 25, 51, 32, 51, 25, 10, 27, 28, 15, 30, 56, 30, 56, 41, 56, 41, 56, 30, 56, 30, 15, 51, 25, 51, 25, 27, 12, 9, 25, 10, 25, 51, 25, 37, 56, 30, 15, 30, 56, 30, 56, 30, 56, 30, 56, 41, 57, 25, 51, 25, 51, 25, 27, 25, 51, 25, 51, 15, 30, 56, 30, 56, 30, 56, 30, 15, 56, 57, 42, 57, 56, 57, 56, 30, 15, 30, 15], [25, 10, 27, 25, 27, 25, 51, 32, 51, 25, 10, 27, 28, 15, 30, 56, 30, 56, 41, 56, 41, 56, 30, 56, 30, 15, 51, 25, 51, 25, 27, 12, 9, 25, 10, 25, 51, 28, 30, 56, 30, 15, 30, 56, 30, 56, 30, 56, 30, 56, 41, 57, 25, 51, 25, 51, 25, 27, 25, 51, 25, 51, 15, 30, 56, 30, 56, 30, 56, 30, 15, 56, 57, 42, 57, 56, 57, 56, 30, 15, 30, 15]]"
      ]
     },
     "execution_count": 217,
     "metadata": {},
     "output_type": "execute_result"
    }
   ],
   "source": [
    "winner"
   ]
  },
  {
   "cell_type": "code",
   "execution_count": null,
   "metadata": {
    "collapsed": true
   },
   "outputs": [],
   "source": []
  }
 ],
 "metadata": {
  "kernelspec": {
   "display_name": "Ruby 2.2.5",
   "language": "ruby",
   "name": "ruby"
  },
  "language_info": {
   "file_extension": ".rb",
   "mimetype": "application/x-ruby",
   "name": "ruby",
   "version": "2.2.5"
  }
 },
 "nbformat": 4,
 "nbformat_minor": 2
}
